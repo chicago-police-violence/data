{
 "cells": [
  {
   "cell_type": "code",
   "execution_count": null,
   "id": "68d42adc",
   "metadata": {},
   "outputs": [],
   "source": [
    "import numpy as np\n",
    "import pandas as pd\n",
    "from tqdm import tqdm_notebook\n",
    "import matplotlib.pyplot as plt\n",
    "from matplotlib.gridspec import GridSpec\n",
    "\n",
    "def flat_list(list_of_lists):\n",
    "    return [item for sublist in list_of_lists for item in sublist]"
   ]
  },
  {
   "cell_type": "code",
   "execution_count": null,
   "id": "31418036",
   "metadata": {
    "scrolled": true
   },
   "outputs": [],
   "source": [
    "roster = pd.read_csv('../final/roster.csv')\n",
    "roster.head()"
   ]
  },
  {
   "cell_type": "code",
   "execution_count": null,
   "id": "7e738ac3",
   "metadata": {},
   "outputs": [],
   "source": [
    "appointment_dates = pd.to_datetime(roster['appointment_date'].values)\n",
    "resignation_dates = pd.to_datetime(roster['resignation_date'].values)\n",
    "\n",
    "plt.figure(figsize = (21,5))\n",
    "plt.subplot(131)\n",
    "plt.hist(appointment_dates, bins = 20)\n",
    "plt.xlabel('Year', fontsize = 22)\n",
    "plt.xticks(fontsize = 16)\n",
    "plt.yticks(fontsize = 16)\n",
    "plt.ylabel('# Appointed Officers', fontsize = 20)\n",
    "\n",
    "plt.subplot(132)\n",
    "plt.hist(resignation_dates, bins=20)\n",
    "plt.xlabel('Year', fontsize = 22)\n",
    "plt.xticks(fontsize = 16)\n",
    "plt.yticks(fontsize = 16)\n",
    "plt.ylabel('# Resigned Officers', fontsize = 20)\n",
    "# plt.show()\n",
    "\n",
    "# total number of active officers\n",
    "\n",
    "def convert_to_year(range_time, low, high):\n",
    "    delta_time = high-low\n",
    "    full_date = low + range_time*delta_time\n",
    "    return full_date.year\n",
    "\n",
    "first_appointment_date, last_appointment_date = min(appointment_dates), max(appointment_dates)\n",
    "delta_time = last_appointment_date - first_appointment_date\n",
    "actives = (pd.to_datetime(roster['appointment_date'].values) - first_appointment_date)/delta_time\n",
    "inactives = (pd.to_datetime(roster['resignation_date'].values) - first_appointment_date)/delta_time\n",
    "inactives = np.nan_to_num(inactives, nan=1)\n",
    "how_many_active = []\n",
    "range_time = np.linspace(0,1,50)\n",
    "years = [convert_to_year(r, first_appointment_date, last_appointment_date) for r in range_time]\n",
    "for r in range_time:\n",
    "    how_many_active.append(np.sum((actives<r)*(inactives>r)))\n",
    "    \n",
    "plt.subplot(133)\n",
    "plt.plot(years[1:-1], how_many_active[1:-1], lw = 3)\n",
    "plt.ylabel('# Active officers', fontsize = 20)\n",
    "plt.xlabel('Year', fontsize = 22)\n",
    "plt.xticks(fontsize = 16)\n",
    "plt.yticks(fontsize = 16)\n",
    "plt.tight_layout()\n",
    "plt.savefig('../doc/figs/history.pdf', dpi=1000, bbox_inches = 'tight')\n",
    "# plt.savefig('../doc/figs/history.png', dpi=100, bbox_inches = 'tight')\n",
    "\n",
    "plt.show()"
   ]
  },
  {
   "cell_type": "code",
   "execution_count": null,
   "id": "3faedf5a",
   "metadata": {},
   "outputs": [],
   "source": [
    "roster_by = roster.drop(roster[roster['birthyear'] > 1998].index, inplace = False)\n",
    "yearz = roster_by['birthyear'].sort_values().dropna()\n",
    "min_year = min(yearz.values) \n",
    "max_year = max(yearz.values)\n",
    "width_year_windows = 5\n",
    "\n",
    "binned = np.bincount((yearz - min_year)//width_year_windows)\n",
    "bins = np.arange(min_year, max_year, width_year_windows, dtype = int)\n",
    "bins_text = [str(bins[t])+'-'+str(bins[t]+width_year_windows-1)[-2:] for t in range(len(bins))]\n",
    "\n",
    "act_roster = roster_by.fillna({'resignation_date':'2019-01-01'})\n",
    "act_roster.drop(act_roster[act_roster['resignation_date'] < '2019-01-01'].index, inplace = True)\n",
    "act_yearz = act_roster['birthyear'].sort_values().dropna()\n",
    "act_binned = np.bincount((act_yearz - min_year)//width_year_windows)"
   ]
  },
  {
   "cell_type": "code",
   "execution_count": null,
   "id": "f457730c",
   "metadata": {},
   "outputs": [],
   "source": [
    "gender_count, race_count, birthyear_count, status_count = roster['gender'].value_counts(), roster['race'].value_counts(), roster['birthyear'].sort_values().value_counts(), roster['status'].value_counts()\n",
    "gender_count, race_count"
   ]
  },
  {
   "cell_type": "code",
   "execution_count": null,
   "id": "c27ea2d9",
   "metadata": {},
   "outputs": [],
   "source": [
    "act_gender_count, act_race_count, act_birthyear_count, act_status_count = act_roster['gender'].value_counts(), act_roster['race'].value_counts(), act_roster['birthyear'].sort_values().value_counts(), act_roster['status'].value_counts()\n",
    "act_gender_count, act_race_count"
   ]
  },
  {
   "cell_type": "code",
   "execution_count": null,
   "id": "56d15aa2",
   "metadata": {},
   "outputs": [],
   "source": [
    "plt.figure(figsize = (16,4))\n",
    "ax = plt.subplot(111)\n",
    "\n",
    "plt.scatter(bins-1, binned, color = 'blue')\n",
    "plt.vlines(x = bins-1, ymin = np.zeros(len(bins)), ymax = binned, color = 'blue')\n",
    "\n",
    "plt.scatter(bins+1, act_binned, color = 'r', label = 'Not resigned as of Jan 1st 2019')\n",
    "plt.vlines(x = bins+1, ymin = np.zeros(len(bins)), ymax = act_binned, color = 'r')\n",
    "\n",
    "plt.xticks(bins, bins_text)\n",
    "plt.setp(ax.xaxis.get_majorticklabels(),rotation=45, ha=\"right\", rotation_mode=\"anchor\") \n",
    "plt.ylabel('# Officers', fontsize = 15)\n",
    "plt.xlabel('Birthyear', fontsize = 15)\n",
    "plt.xticks(fontsize = 15)\n",
    "plt.yticks(fontsize = 15)\n",
    "plt.legend(fontsize = 12)\n",
    "plt.savefig('../doc/figs/history_by.pdf', dpi=1000, bbox_inches = 'tight')\n",
    "#plt.savefig('../doc/figs/history_by.png', dpi=100, bbox_inches = 'tight')\n",
    "\n",
    "plt.show()"
   ]
  }
 ],
 "metadata": {
  "kernelspec": {
   "display_name": "Python 3 (ipykernel)",
   "language": "python",
   "name": "python3"
  },
  "language_info": {
   "codemirror_mode": {
    "name": "ipython",
    "version": 3
   },
   "file_extension": ".py",
   "mimetype": "text/x-python",
   "name": "python",
   "nbconvert_exporter": "python",
   "pygments_lexer": "ipython3",
   "version": "3.6.9"
  }
 },
 "nbformat": 4,
 "nbformat_minor": 5
}
