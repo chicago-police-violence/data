{
 "cells": [
  {
   "cell_type": "code",
   "execution_count": null,
   "id": "982b7b67",
   "metadata": {},
   "outputs": [],
   "source": [
    "import numpy as np\n",
    "import pandas as pd\n",
    "from tqdm import tqdm_notebook\n",
    "import matplotlib.pyplot as plt\n",
    "from matplotlib.gridspec import GridSpec"
   ]
  },
  {
   "cell_type": "code",
   "execution_count": null,
   "id": "f10bbaea-ecc1-417f-94bf-2b2e245327c3",
   "metadata": {},
   "outputs": [],
   "source": [
    "roster = pd.read_csv('../final/roster.csv')\n",
    "roster.head()"
   ]
  },
  {
   "cell_type": "code",
   "execution_count": null,
   "id": "e9a58de4",
   "metadata": {},
   "outputs": [],
   "source": [
    "awards  = pd.read_csv('../final/awards.csv')\n",
    "awards.head()\n",
    "\n",
    "# officer date - start date at which officer became officer according to this dataset - ignore for now\n",
    "# salary per year per position (median + bars)\n",
    "# salary per year per seniority (median of binning)\n",
    "\n",
    "# award histogram by type, gender, position, age, etc"
   ]
  },
  {
   "cell_type": "code",
   "execution_count": null,
   "id": "fb01f152-f95d-4f5c-8c4e-28337496b9d1",
   "metadata": {},
   "outputs": [],
   "source": [
    "awards.award_type.unique()"
   ]
  },
  {
   "cell_type": "code",
   "execution_count": null,
   "id": "55f3febb-d4f9-4e47-a2f9-cf6d37ad7cdf",
   "metadata": {},
   "outputs": [],
   "source": [
    "trait_map = {}\n",
    "traits = ['race', 'gender']\n",
    "\n",
    "for i in range(roster.shape[0]):\n",
    "    trait_map[roster.uid.iloc[i]] = {tr : roster[tr].iloc[i] for tr in traits}\n",
    "\n",
    "for tr in traits:\n",
    "    awards[tr] = awards.uid.map(lambda x : trait_map[x][tr])\n",
    "    \n",
    "awards"
   ]
  },
  {
   "cell_type": "code",
   "execution_count": null,
   "id": "24d0944f-6843-414e-93ff-0ca3edfeb0a4",
   "metadata": {},
   "outputs": [],
   "source": [
    "num_offs = roster.groupby(['race', 'gender']).agg(['count'])\n",
    "num_offs.reset_index(inplace=True)\n",
    "num_offs['count'] = num_offs['uid']['count']\n",
    "num_offs = num_offs[['race', 'gender', 'count']]\n",
    "num_offs = num_offs.rename(columns = {'count' : 'officers'})\n",
    "num_offs = num_offs[num_offs.gender != 'X']\n",
    "num_offs.reset_index(inplace=True)\n",
    "num_offs"
   ]
  },
  {
   "cell_type": "code",
   "execution_count": null,
   "id": "d0494c72-8d32-4c5d-a7d2-8c0460200d08",
   "metadata": {},
   "outputs": [],
   "source": [
    "num_awds = awards.groupby(['race', 'gender']).agg(['count'])\n",
    "num_awds.reset_index(inplace=True)\n",
    "num_awds['count'] = num_awds['uid']['count']\n",
    "num_awds = num_awds[['race', 'gender', 'count']]\n",
    "num_awds = num_awds.rename(columns = {'count' : 'awards'})\n",
    "num_awds"
   ]
  },
  {
   "cell_type": "code",
   "execution_count": null,
   "id": "468fee29-5902-485d-94f3-68a9681402fe",
   "metadata": {},
   "outputs": [],
   "source": [
    "cc = pd.concat([num_offs, num_awds], axis=1)\n",
    "cc = cc.loc[:, ~cc.columns.duplicated()]\n",
    "cc['frac'] = cc['awards']/cc['officers']\n",
    "cc"
   ]
  },
  {
   "cell_type": "code",
   "execution_count": null,
   "id": "028b79bc-136e-40e0-9fd0-2397617abefb",
   "metadata": {},
   "outputs": [],
   "source": [
    "import seaborn as sns\n",
    "sns.set_style('whitegrid')\n",
    "ax = sns.barplot(x = 'race', y = 'frac', hue = 'gender', data = cc)\n",
    "plt.xticks(rotation=45, ha=\"right\", rotation_mode=\"anchor\")\n",
    "plt.ylabel('Award Requests per Officer')\n",
    "plt.xlabel('CPD Race Category')\n",
    "ax.get_legend().set_title('CPD Gender Category')\n",
    "plt.tight_layout()\n",
    "plt.savefig('awards.pdf')"
   ]
  },
  {
   "cell_type": "code",
   "execution_count": null,
   "id": "ca29b4bd-5340-429f-9ed8-b0092a0bfa10",
   "metadata": {},
   "outputs": [],
   "source": []
  }
 ],
 "metadata": {
  "kernelspec": {
   "display_name": "Python 3 (ipykernel)",
   "language": "python",
   "name": "python3"
  },
  "language_info": {
   "codemirror_mode": {
    "name": "ipython",
    "version": 3
   },
   "file_extension": ".py",
   "mimetype": "text/x-python",
   "name": "python",
   "nbconvert_exporter": "python",
   "pygments_lexer": "ipython3",
   "version": "3.6.9"
  }
 },
 "nbformat": 4,
 "nbformat_minor": 5
}
