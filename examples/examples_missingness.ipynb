{
 "cells": [
  {
   "cell_type": "code",
   "execution_count": 1,
   "id": "87d0d0a3",
   "metadata": {},
   "outputs": [],
   "source": [
    "import numpy as np\n",
    "import pandas as pd\n",
    "from tqdm import tqdm_notebook\n",
    "import matplotlib.pyplot as plt\n",
    "from matplotlib.gridspec import GridSpec\n",
    "import seaborn as sns"
   ]
  },
  {
   "cell_type": "code",
   "execution_count": 16,
   "id": "2eb3609b",
   "metadata": {},
   "outputs": [
    {
     "name": "stderr",
     "output_type": "stream",
     "text": [
      "/Users/raj/anaconda3/envs/policedata/lib/python3.8/site-packages/IPython/core/interactiveshell.py:3441: DtypeWarning: Columns (1) have mixed types.Specify dtype option on import or set low_memory=False.\n",
      "  exec(code_obj, self.user_global_ns, self.user_ns)\n"
     ]
    }
   ],
   "source": [
    "# Load the roster data\n",
    "roster = pd.read_csv('../final/roster.csv')\n",
    "roster.head()\n",
    "\n",
    "# Load the salary data\n",
    "salary  = pd.read_csv('../final/salary.csv')\n",
    "salary.head()\n",
    "\n",
    "# Load in units data\n",
    "units  = pd.read_csv('../final/unit_assignments.csv')\n",
    "\n",
    "# Load in TRR data\n",
    "trrs  = pd.read_csv('../final/tactical_response_reports.csv')\n",
    "trrs_unique = trrs.drop_duplicates(subset='event_no')\n",
    "\n",
    "# Load the awards data\n",
    "awards  = pd.read_csv('../final/awards.csv')\n",
    "\n",
    "# Load in complaints data\n",
    "complaints  = pd.read_csv('../final/complaints.csv')"
   ]
  },
  {
   "cell_type": "code",
   "execution_count": 17,
   "id": "d892b21c",
   "metadata": {},
   "outputs": [
    {
     "name": "stdout",
     "output_type": "stream",
     "text": [
      "% Missing:\n"
     ]
    },
    {
     "data": {
      "text/plain": [
       "last_name                 0.0\n",
       "first_name                0.0\n",
       "middle_initial           17.9\n",
       "gender                    0.0\n",
       "race                      0.9\n",
       "birthyear                 8.5\n",
       "age                       0.4\n",
       "status                   10.3\n",
       "appointment_date          0.6\n",
       "position_no               1.6\n",
       "position_description     13.0\n",
       "unit_no                   4.0\n",
       "unit_description         13.0\n",
       "resignation_date         44.0\n",
       "star1                    21.7\n",
       "star2                    73.1\n",
       "star3                    90.8\n",
       "star4                    97.2\n",
       "star5                    99.3\n",
       "star6                    99.8\n",
       "star7                   100.0\n",
       "star8                   100.0\n",
       "star9                   100.0\n",
       "star10                  100.0\n",
       "star11                  100.0\n",
       "sworn                    60.3\n",
       "unit_id                  60.3\n",
       "unit_detail              91.6\n",
       "star                     60.3\n",
       "uid                       0.0\n",
       "dtype: float64"
      ]
     },
     "execution_count": 17,
     "metadata": {},
     "output_type": "execute_result"
    }
   ],
   "source": [
    "print('% Missing:')\n",
    "100 * roster.isnull().mean().round(3)"
   ]
  },
  {
   "cell_type": "code",
   "execution_count": 18,
   "id": "d1d0cf1e",
   "metadata": {},
   "outputs": [
    {
     "name": "stdout",
     "output_type": "stream",
     "text": [
      "% Missing:\n"
     ]
    },
    {
     "data": {
      "text/plain": [
       "uid                         0.0\n",
       "year                        0.0\n",
       "salary                      0.0\n",
       "position_description        0.0\n",
       "pay_grade                   0.0\n",
       "present_posn_start_date    20.7\n",
       "officer_date                0.6\n",
       "employee_status             0.0\n",
       "dtype: float64"
      ]
     },
     "execution_count": 18,
     "metadata": {},
     "output_type": "execute_result"
    }
   ],
   "source": [
    "print('% Missing:')\n",
    "100 * salary.isnull().mean().round(3)"
   ]
  },
  {
   "cell_type": "code",
   "execution_count": 19,
   "id": "4a735de6",
   "metadata": {},
   "outputs": [
    {
     "name": "stdout",
     "output_type": "stream",
     "text": [
      "% Missing:\n"
     ]
    },
    {
     "data": {
      "text/plain": [
       "uid            0.0\n",
       "unit_no        0.0\n",
       "start_date     0.0\n",
       "end_date      27.6\n",
       "dtype: float64"
      ]
     },
     "execution_count": 19,
     "metadata": {},
     "output_type": "execute_result"
    }
   ],
   "source": [
    "print('% Missing:')\n",
    "100 * units.isnull().mean().round(3)"
   ]
  },
  {
   "cell_type": "code",
   "execution_count": 20,
   "id": "2ba8f85d",
   "metadata": {},
   "outputs": [
    {
     "name": "stdout",
     "output_type": "stream",
     "text": [
      "% Missing:\n"
     ]
    },
    {
     "data": {
      "text/plain": [
       "trr_id                           0.0\n",
       "rd_no                            0.1\n",
       "cr_no_obtained                  78.4\n",
       "subject_cb_no                    8.9\n",
       "event_no                         0.0\n",
       "beat                             0.0\n",
       "block                            0.0\n",
       "street_direction                 0.1\n",
       "street_name                      0.0\n",
       "location                         0.0\n",
       "date                             0.0\n",
       "time                             0.1\n",
       "indoor_or_outdoor                1.3\n",
       "lighting_condition               1.4\n",
       "weather_condition                1.7\n",
       "notify_oemc                     16.1\n",
       "notify_dist_sergeant            16.1\n",
       "notify_op_command               92.0\n",
       "notify_det_div                  92.0\n",
       "number_of_weapons_discharged     0.0\n",
       "party_fired_first               46.8\n",
       "duty_status                      0.0\n",
       "injured                          0.0\n",
       "member_in_uniform                0.0\n",
       "subject_gender                   0.1\n",
       "subject_race                     1.2\n",
       "subject_age                      0.0\n",
       "subject_birthyear                0.0\n",
       "subject_armed                    0.1\n",
       "subject_injured                  0.1\n",
       "subject_alleged_injury           0.1\n",
       "uid                              0.0\n",
       "dtype: float64"
      ]
     },
     "execution_count": 20,
     "metadata": {},
     "output_type": "execute_result"
    }
   ],
   "source": [
    "print('% Missing:')\n",
    "100 * trrs_unique.isnull().mean().round(3)"
   ]
  },
  {
   "cell_type": "code",
   "execution_count": 21,
   "id": "51c15873",
   "metadata": {},
   "outputs": [
    {
     "name": "stdout",
     "output_type": "stream",
     "text": [
      "% Missing:\n"
     ]
    },
    {
     "data": {
      "text/plain": [
       "uid                          0.0\n",
       "star                        21.3\n",
       "position_no                  8.2\n",
       "position_description         0.0\n",
       "award_request_date           0.0\n",
       "award_ref_number             0.0\n",
       "award_type                   0.0\n",
       "requester_last_name          0.7\n",
       "requester_first_name         0.7\n",
       "requester_middle_initial    93.0\n",
       "tracking_no                 40.1\n",
       "current_status               0.0\n",
       "incident_start_date          0.0\n",
       "incident_end_date           13.2\n",
       "incident_description        91.8\n",
       "ceremony_date               86.9\n",
       "dtype: float64"
      ]
     },
     "execution_count": 21,
     "metadata": {},
     "output_type": "execute_result"
    }
   ],
   "source": [
    "print('% Missing:')\n",
    "100 * awards.isnull().mean().round(3)"
   ]
  },
  {
   "cell_type": "code",
   "execution_count": 22,
   "id": "b0b237f0",
   "metadata": {},
   "outputs": [
    {
     "name": "stdout",
     "output_type": "stream",
     "text": [
      "% Missing:\n"
     ]
    },
    {
     "data": {
      "text/plain": [
       "complaint_no          0.0\n",
       "beat                  0.8\n",
       "location_code         0.0\n",
       "street_no            23.7\n",
       "street_name          22.4\n",
       "apt_no               99.0\n",
       "city                 20.2\n",
       "incident_datetime     0.0\n",
       "complaint_date        0.0\n",
       "closed_date           1.8\n",
       "dtype: float64"
      ]
     },
     "execution_count": 22,
     "metadata": {},
     "output_type": "execute_result"
    }
   ],
   "source": [
    "print('% Missing:')\n",
    "100 * complaints.isnull().mean().round(3)"
   ]
  }
 ],
 "metadata": {
  "kernelspec": {
   "display_name": "Python 3",
   "language": "python",
   "name": "python3"
  },
  "language_info": {
   "codemirror_mode": {
    "name": "ipython",
    "version": 3
   },
   "file_extension": ".py",
   "mimetype": "text/x-python",
   "name": "python",
   "nbconvert_exporter": "python",
   "pygments_lexer": "ipython3",
   "version": "3.8.8"
  }
 },
 "nbformat": 4,
 "nbformat_minor": 5
}
