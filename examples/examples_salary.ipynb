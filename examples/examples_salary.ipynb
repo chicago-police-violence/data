{
 "cells": [
  {
   "cell_type": "code",
   "execution_count": null,
   "id": "982b7b67",
   "metadata": {},
   "outputs": [],
   "source": [
    "import numpy as np\n",
    "import pandas as pd\n",
    "from tqdm import tqdm_notebook\n",
    "import matplotlib.pyplot as plt\n",
    "from matplotlib.gridspec import GridSpec"
   ]
  },
  {
   "cell_type": "code",
   "execution_count": null,
   "id": "e9a58de4",
   "metadata": {},
   "outputs": [],
   "source": [
    "# Load the salary data\n",
    "salary  = pd.read_csv('../final/salary.csv')\n",
    "salary.head()"
   ]
  },
  {
   "cell_type": "code",
   "execution_count": null,
   "id": "f5c69533-ea9c-46d9-90ba-e70896f44bf1",
   "metadata": {},
   "outputs": [],
   "source": [
    "# plot salary for these positions\n",
    "positions = ['POLICE OFFICER', 'POLICE OFFICER (ASSIGNED AS DETECTIVE)', 'SERGEANT', 'LIEUTENANT', 'COMMANDER']\n",
    "\n",
    "plt.figure(figsize = (7,5))\n",
    "for posn in positions:\n",
    "    # restrict to the particular position\n",
    "    rows = salary[salary.position_description == posn]\n",
    "    \n",
    "    # compute the number of years the officer has spent in their current position for each record\n",
    "    rows['posn_start_year'] = list(map(lambda x : x.year, pd.to_datetime(rows.present_posn_start_date.values)))\n",
    "    rows['years_in_posn'] = rows['year'] - rows['posn_start_year']   \n",
    "\n",
    "    # remove very old entries\n",
    "    rows = rows[rows.years_in_posn <= 30]\n",
    "    # aggregate and compute stats\n",
    "    agg = rows.groupby('years_in_posn').salary.agg(['mean', 'std', 'count'])\n",
    "    agg.reset_index(inplace=True)\n",
    "    # only plot when there were a large enough group of officers (at least 3)\n",
    "    agg = agg[agg['count'] >= 3]\n",
    "    plt.errorbar(agg.index, agg['mean'], agg['std'], label=posn if '(' not in posn else 'DETECTIVE')\n",
    "    plt.xlabel('Years in Position')\n",
    "    plt.ylabel('Salary (USD)')\n",
    "plt.legend()\n",
    "plt.tight_layout()\n",
    "plt.savefig('salary.pdf')\n",
    "plt.show()"
   ]
  },
  {
   "cell_type": "code",
   "execution_count": null,
   "id": "fd859e8e-f9e3-4704-968d-f122ac35c13c",
   "metadata": {},
   "outputs": [],
   "source": []
  }
 ],
 "metadata": {
  "kernelspec": {
   "display_name": "Python 3 (ipykernel)",
   "language": "python",
   "name": "python3"
  },
  "language_info": {
   "codemirror_mode": {
    "name": "ipython",
    "version": 3
   },
   "file_extension": ".py",
   "mimetype": "text/x-python",
   "name": "python",
   "nbconvert_exporter": "python",
   "pygments_lexer": "ipython3",
   "version": "3.6.9"
  }
 },
 "nbformat": 4,
 "nbformat_minor": 5
}
