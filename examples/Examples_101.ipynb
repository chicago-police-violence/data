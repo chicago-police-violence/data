{
 "cells": [
  {
   "cell_type": "code",
   "execution_count": null,
   "id": "68d42adc",
   "metadata": {},
   "outputs": [],
   "source": [
    "import numpy as np\n",
    "import pandas as pd\n",
    "from tqdm import tqdm_notebook\n",
    "import matplotlib.pyplot as plt\n",
    "from matplotlib.gridspec import GridSpec\n",
    "\n",
    "def flat_list(list_of_lists):\n",
    "    return [item for sublist in list_of_lists for item in sublist]"
   ]
  },
  {
   "cell_type": "markdown",
   "id": "62fab6c2",
   "metadata": {},
   "source": [
    "We first load the \"history.csv\" file; "
   ]
  },
  {
   "cell_type": "code",
   "execution_count": null,
   "id": "9139f50b",
   "metadata": {},
   "outputs": [],
   "source": [
    "history = pd.read_csv('../final/history.csv')\n",
    "print(history.head())\n",
    "end_date = max(pd.to_datetime(history['end_date'].values)) # largest end date\n",
    "print('Number of distinct uids in database:', len(set(history['uid'])))"
   ]
  },
  {
   "cell_type": "markdown",
   "id": "6f52247b",
   "metadata": {},
   "source": [
    "Create history profiles: for each uid, associate all start, end dates;"
   ]
  },
  {
   "cell_type": "code",
   "execution_count": null,
   "id": "b2083ead",
   "metadata": {},
   "outputs": [],
   "source": [
    "# history_profiles = {}\n",
    "# for uid in tqdm_notebook(set(history['uid'])):\n",
    "#     history_profiles[uid] = {}\n",
    "#     vals = history[history['uid'] == uid].values\n",
    "#     for v in vals:\n",
    "#         if np.isnan(v[1]):\n",
    "#             pass\n",
    "#         else:\n",
    "#             history_profiles[uid][int(v[1])] = v[2], v[3]\n",
    "# np.save('history_profiles', history_profiles)\n",
    "\n",
    "history_profiles = np.load('../../derived_data/history_profiles.npy', allow_pickle=1).item()"
   ]
  },
  {
   "cell_type": "code",
   "execution_count": null,
   "id": "c0b5717f",
   "metadata": {},
   "outputs": [],
   "source": [
    "# distribution of number of units/officer\n",
    "\n",
    "a = [len(history_profiles[individual_officer]) for individual_officer in history_profiles]\n",
    "plt.hist(a, bins = 20)\n",
    "plt.xlabel('# units', fontsize = 14)\n",
    "plt.ylabel('# officers', fontsize = 14)\n",
    "plt.xticks(np.arange(18)[::2], np.arange(1,19)[::2], fontsize = 14)\n",
    "plt.yticks(fontsize = 14)\n",
    "plt.tight_layout()\n",
    "plt.show()"
   ]
  },
  {
   "cell_type": "code",
   "execution_count": null,
   "id": "86d7afad",
   "metadata": {},
   "outputs": [],
   "source": [
    "# units_numbers = set(flat_list([list(history_profiles[k].keys()) for k in history_profiles]))\n",
    "# time_in_unit = {unit : 0 for unit in units_numbers}\n",
    "# plt.figure(figsize = (20,3))\n",
    "# for uid in history_profiles:\n",
    "#     for unit in history_profiles[uid]:\n",
    "#         time_in_unit[unit] += 1\n",
    "# max_unit, max_times = np.argmax([time_in_unit[u] for u in time_in_unit]), max([time_in_unit[u] for u in time_in_unit])\n",
    "# plt.scatter(np.arange(max_unit), [time_in_unit[v] for v in np.sort(list(units_numbers))[:max_unit]])\n",
    "# # plt.xticks(np.arange(len(units_numbers)), np.sort(list(units_numbers)))\n",
    "# plt.show()"
   ]
  },
  {
   "cell_type": "code",
   "execution_count": null,
   "id": "7736b02b",
   "metadata": {},
   "outputs": [],
   "source": [
    "# potentially interesting questions:\n",
    "\n",
    "# how much time does an officer spend in a unit?\n",
    "# officer distribution across units as time varies? "
   ]
  },
  {
   "cell_type": "code",
   "execution_count": null,
   "id": "31418036",
   "metadata": {
    "scrolled": true
   },
   "outputs": [],
   "source": [
    "roster = pd.read_csv('../final/roster.csv')\n",
    "roster.head()"
   ]
  },
  {
   "cell_type": "code",
   "execution_count": null,
   "id": "7e738ac3",
   "metadata": {},
   "outputs": [],
   "source": [
    "appointment_dates = pd.to_datetime(roster['appointment_date'].values)\n",
    "resignation_dates = pd.to_datetime(roster['resignation_date'].values)\n",
    "\n",
    "plt.figure(figsize = (21,5))\n",
    "plt.subplot(131)\n",
    "plt.hist(appointment_dates, bins = 20)\n",
    "plt.xlabel('Year', fontsize = 22)\n",
    "plt.xticks(fontsize = 16)\n",
    "plt.yticks(fontsize = 16)\n",
    "plt.ylabel('# Appointed Officers', fontsize = 20)\n",
    "\n",
    "plt.subplot(132)\n",
    "plt.hist(resignation_dates, bins=20)\n",
    "plt.xlabel('Year', fontsize = 22)\n",
    "plt.xticks(fontsize = 16)\n",
    "plt.yticks(fontsize = 16)\n",
    "plt.ylabel('# Resigned Officers', fontsize = 20)\n",
    "# plt.show()\n",
    "\n",
    "# total number of active officers\n",
    "\n",
    "def convert_to_year(range_time, low, high):\n",
    "    delta_time = high-low\n",
    "    full_date = low + range_time*delta_time\n",
    "    return full_date.year\n",
    "\n",
    "first_appointment_date, last_appointment_date = min(appointment_dates), max(appointment_dates)\n",
    "delta_time = last_appointment_date - first_appointment_date\n",
    "actives = (pd.to_datetime(roster['appointment_date'].values) - first_appointment_date)/delta_time\n",
    "inactives = (pd.to_datetime(roster['resignation_date'].values) - first_appointment_date)/delta_time\n",
    "inactives = np.nan_to_num(inactives, nan=1)\n",
    "how_many_active = []\n",
    "range_time = np.linspace(0,1,50)\n",
    "years = [convert_to_year(r, first_appointment_date, last_appointment_date) for r in range_time]\n",
    "for r in range_time:\n",
    "    how_many_active.append(np.sum((actives<r)*(inactives>r)))\n",
    "    \n",
    "plt.subplot(133)\n",
    "plt.plot(years[1:-1], how_many_active[1:-1], lw = 3)\n",
    "plt.ylabel('# Active officers', fontsize = 20)\n",
    "plt.xlabel('Year', fontsize = 22)\n",
    "plt.xticks(fontsize = 16)\n",
    "plt.yticks(fontsize = 16)\n",
    "plt.tight_layout()\n",
    "plt.savefig('../doc/figs/history.pdf', dpi=1000, bbox_inches = 'tight')\n",
    "plt.show()"
   ]
  },
  {
   "cell_type": "code",
   "execution_count": null,
   "id": "a18ba758",
   "metadata": {},
   "outputs": [],
   "source": [
    "yearz = roster['birthyear'].sort_values().dropna()\n",
    "min_year = min(yearz.values) \n",
    "max_year = max(yearz.values)\n",
    "width_year_windows = 5\n",
    "binned = np.bincount((yearz - min_year)//width_year_windows)\n",
    "bins = np.arange(min_year, max_year, width_year_windows, dtype = int)\n",
    "bins_text = [str(bins[t])+'-'+str(bins[t]+width_year_windows-1)[-2:] for t in range(len(bins))]\n",
    "\n",
    "act_roster = roster.fillna({'resignation_date':'2014-01-01'})\n",
    "act_roster.drop(act_roster[act_roster['resignation_date'] < '2014-01-01'].index, inplace = True)\n",
    "act_yearz = act_roster['birthyear'].sort_values().dropna()\n",
    "act_binned = np.bincount((act_yearz - min_year)//width_year_windows)"
   ]
  },
  {
   "cell_type": "code",
   "execution_count": null,
   "id": "f457730c",
   "metadata": {},
   "outputs": [],
   "source": [
    "gender_count, race_count, birthyear_count, status_count = roster['gender'].value_counts(), roster['race'].value_counts(), roster['birthyear'].sort_values().value_counts(), roster['status'].value_counts()\n",
    "gender_count, race_count"
   ]
  },
  {
   "cell_type": "code",
   "execution_count": null,
   "id": "86ff440a",
   "metadata": {},
   "outputs": [],
   "source": [
    "act_gender_count, act_race_count, act_birthyear_count, act_status_count = act_roster['gender'].value_counts(), act_roster['race'].value_counts(), act_roster['birthyear'].sort_values().value_counts(), act_roster['status'].value_counts()\n",
    "act_gender_count, act_race_count"
   ]
  },
  {
   "cell_type": "code",
   "execution_count": null,
   "id": "4e365b7b",
   "metadata": {},
   "outputs": [],
   "source": [
    "plt.figure(figsize = (12,3))\n",
    "ax = plt.subplot(111)\n",
    "\n",
    "plt.scatter(bins-1, binned, color = 'blue')\n",
    "plt.vlines(x = bins-1, ymin = np.zeros(len(bins)), ymax = binned, color = 'blue')\n",
    "\n",
    "plt.scatter(bins+1, act_binned, color = 'r', label = 'Active after Jan 1st 2014')\n",
    "plt.vlines(x = bins+1, ymin = np.zeros(len(bins)), ymax = act_binned, color = 'r')\n",
    "\n",
    "plt.xticks(bins, bins_text)\n",
    "plt.setp(ax.xaxis.get_majorticklabels(),rotation=45, ha=\"right\", rotation_mode=\"anchor\") \n",
    "plt.ylabel('# Officers', fontsize = 15)\n",
    "plt.xlabel('Birthyear', fontsize = 15)\n",
    "plt.xticks(fontsize = 15)\n",
    "plt.yticks(fontsize = 15)\n",
    "plt.legend(fontsize = 12)\n",
    "plt.savefig('../doc/figs/history_by.pdf', dpi=1000, bbox_inches = 'tight')\n",
    "plt.show()"
   ]
  },
  {
   "cell_type": "code",
   "execution_count": null,
   "id": "27c159cb",
   "metadata": {},
   "outputs": [],
   "source": [
    "# appointment date distribution\n",
    "print('Number of distinct uids in database:', len(set(profiles['uid'])))\n",
    "profiles = profiles.sort_values('appointment_date', ascending=False).drop_duplicates('uid').sort_index()\n",
    "# profiles.drop_duplicates(subset='uid', keep='first')\n",
    "appointment_dates = pd.to_datetime(profiles['appointment_date'].values)\n",
    "resignation_dates = pd.to_datetime(profiles['resignation_date'].values)"
   ]
  },
  {
   "cell_type": "code",
   "execution_count": null,
   "id": "f373f14e",
   "metadata": {},
   "outputs": [],
   "source": [
    "plt.figure(figsize = (20,4))\n",
    "plt.subplot(121)\n",
    "plt.hist(appointment_dates)\n",
    "plt.xlabel('Years', fontsize = 18)\n",
    "plt.xticks(fontsize = 18)\n",
    "plt.yticks(fontsize = 18)\n",
    "plt.ylabel('# Appointed Officers', fontsize = 18)\n",
    "\n",
    "plt.subplot(122)\n",
    "plt.hist(resignation_dates)\n",
    "plt.xlabel('Years', fontsize = 18)\n",
    "plt.xticks(fontsize = 18)\n",
    "plt.yticks(fontsize = 18)\n",
    "plt.ylabel('# Resigned Officers', fontsize = 18)\n",
    "plt.show()"
   ]
  },
  {
   "cell_type": "code",
   "execution_count": null,
   "id": "181550e1",
   "metadata": {},
   "outputs": [],
   "source": [
    "# total number of active officers\n",
    "\n",
    "def convert_to_year(range_time, low, high):\n",
    "    delta_time = high-low\n",
    "    full_date = low + range_time*delta_time\n",
    "    return full_date.year\n",
    "\n",
    "first_appointment_date, last_appointment_date = min(appointment_dates), max(appointment_dates)\n",
    "delta_time = last_appointment_date - first_appointment_date\n",
    "actives = (pd.to_datetime(profiles['appointment_date'].values) - first_appointment_date)/delta_time\n",
    "inactives = (pd.to_datetime(profiles['resignation_date'].values) - first_appointment_date)/delta_time\n",
    "inactives = np.nan_to_num(inactives, nan=1)\n",
    "how_many_active = []\n",
    "how_many_active_dropped_nans = []\n",
    "range_time = np.linspace(0,1,50)\n",
    "years = [convert_to_year(r, first_appointment_date, last_appointment_date) for r in range_time]\n",
    "for r in range_time:\n",
    "    how_many_active.append(np.sum((actives<r)*(inactives>r)))\n",
    "    \n",
    "plt.figure()\n",
    "plt.subplot(111)\n",
    "plt.plot(years[1:-1], how_many_active[1:-1], lw = 3)\n",
    "plt.ylabel('# Active officers', fontsize = 14)\n",
    "plt.xlabel('Year', fontsize = 14)\n",
    "plt.xticks(fontsize = 14)\n",
    "plt.yticks(fontsize = 14)\n",
    "plt.show()"
   ]
  }
 ],
 "metadata": {
  "kernelspec": {
   "display_name": "Python 3",
   "language": "python",
   "name": "python3"
  },
  "language_info": {
   "codemirror_mode": {
    "name": "ipython",
    "version": 3
   },
   "file_extension": ".py",
   "mimetype": "text/x-python",
   "name": "python",
   "nbconvert_exporter": "python",
   "pygments_lexer": "ipython3",
   "version": "3.8.8"
  }
 },
 "nbformat": 4,
 "nbformat_minor": 5
}
