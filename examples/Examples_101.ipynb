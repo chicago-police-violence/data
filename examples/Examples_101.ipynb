{
 "cells": [
  {
   "cell_type": "code",
   "execution_count": 1,
   "id": "68d42adc",
   "metadata": {},
   "outputs": [],
   "source": [
    "import numpy as np\n",
    "import pandas as pd\n",
    "from tqdm import tqdm_notebook\n",
    "import matplotlib.pyplot as plt\n",
    "from matplotlib.gridspec import GridSpec\n",
    "\n",
    "def flat_list(list_of_lists):\n",
    "    return [item for sublist in list_of_lists for item in sublist]"
   ]
  },
  {
   "cell_type": "markdown",
   "id": "62fab6c2",
   "metadata": {},
   "source": [
    "We first load the \"history.csv\" file; "
   ]
  },
  {
   "cell_type": "code",
   "execution_count": 2,
   "id": "9139f50b",
   "metadata": {},
   "outputs": [
    {
     "name": "stdout",
     "output_type": "stream",
     "text": [
      "                                    uid  unit_no  start_date    end_date\n",
      "0  f679a45d-40b6-46ee-b1ec-75b7183c6f88     14.0  2007-03-29  2007-03-28\n",
      "1  f679a45d-40b6-46ee-b1ec-75b7183c6f88     14.0  2007-03-29  2016-06-04\n",
      "2  f679a45d-40b6-46ee-b1ec-75b7183c6f88      3.0  2016-06-05         NaN\n",
      "3  daca1133-5d9b-47b5-8462-4cbb1af3ba8f     15.0  2007-03-29  2007-03-28\n",
      "4  daca1133-5d9b-47b5-8462-4cbb1af3ba8f     15.0  2007-03-29         NaN\n",
      "Number of distinct uids in database: 32023\n"
     ]
    }
   ],
   "source": [
    "history = pd.read_csv('../final/history.csv')\n",
    "print(history.head())\n",
    "end_date = max(pd.to_datetime(history['end_date'].values)) # largest end date\n",
    "print('Number of distinct uids in database:', len(set(history['uid'])))"
   ]
  },
  {
   "cell_type": "markdown",
   "id": "6f52247b",
   "metadata": {},
   "source": [
    "Create history profiles: for each uid, associate all start, end dates;"
   ]
  },
  {
   "cell_type": "code",
   "execution_count": 3,
   "id": "b2083ead",
   "metadata": {},
   "outputs": [],
   "source": [
    "# history_profiles = {}\n",
    "# for uid in tqdm_notebook(set(history['uid'])):\n",
    "#     history_profiles[uid] = {}\n",
    "#     vals = history[history['uid'] == uid].values\n",
    "#     for v in vals:\n",
    "#         if np.isnan(v[1]):\n",
    "#             pass\n",
    "#         else:\n",
    "#             history_profiles[uid][int(v[1])] = v[2], v[3]\n",
    "# np.save('history_profiles', history_profiles)\n",
    "\n",
    "history_profiles = np.load('../../derived_data/history_profiles.npy', allow_pickle=1).item()"
   ]
  },
  {
   "cell_type": "code",
   "execution_count": 4,
   "id": "c0b5717f",
   "metadata": {},
   "outputs": [
    {
     "data": {
      "image/png": "[encoded data removed]",
      "text/plain": [
       "<Figure size 432x288 with 1 Axes>"
      ]
     },
     "metadata": {
      "needs_background": "light"
     },
     "output_type": "display_data"
    }
   ],
   "source": [
    "# distribution of number of units/officer\n",
    "\n",
    "a = [len(history_profiles[individual_officer]) for individual_officer in history_profiles]\n",
    "plt.hist(a, bins = 20)\n",
    "plt.xlabel('# units', fontsize = 14)\n",
    "plt.ylabel('# officers', fontsize = 14)\n",
    "plt.xticks(np.arange(18)[::2], np.arange(1,19)[::2], fontsize = 14)\n",
    "plt.yticks(fontsize = 14)\n",
    "plt.tight_layout()\n",
    "plt.show()"
   ]
  },
  {
   "cell_type": "code",
   "execution_count": null,
   "id": "86d7afad",
   "metadata": {},
   "outputs": [],
   "source": [
    "# units_numbers = set(flat_list([list(history_profiles[k].keys()) for k in history_profiles]))\n",
    "# time_in_unit = {unit : 0 for unit in units_numbers}\n",
    "# plt.figure(figsize = (20,3))\n",
    "# for uid in history_profiles:\n",
    "#     for unit in history_profiles[uid]:\n",
    "#         time_in_unit[unit] += 1\n",
    "# max_unit, max_times = np.argmax([time_in_unit[u] for u in time_in_unit]), max([time_in_unit[u] for u in time_in_unit])\n",
    "# plt.scatter(np.arange(max_unit), [time_in_unit[v] for v in np.sort(list(units_numbers))[:max_unit]])\n",
    "# # plt.xticks(np.arange(len(units_numbers)), np.sort(list(units_numbers)))\n",
    "# plt.show()"
   ]
  },
  {
   "cell_type": "code",
   "execution_count": null,
   "id": "7736b02b",
   "metadata": {},
   "outputs": [],
   "source": [
    "# potentially interesting questions:\n",
    "\n",
    "# how much time does an officer spend in a unit?\n",
    "# officer distribution across units as time varies? "
   ]
  },
  {
   "cell_type": "code",
   "execution_count": 5,
   "id": "31418036",
   "metadata": {
    "scrolled": true
   },
   "outputs": [
    {
     "name": "stderr",
     "output_type": "stream",
     "text": [
      "/Users/lorenzomasoero/opt/anaconda3/lib/python3.8/site-packages/IPython/core/interactiveshell.py:3165: DtypeWarning: Columns (9) have mixed types.Specify dtype option on import or set low_memory=False.\n",
      "  has_raised = await self.run_ast_nodes(code_ast.body, cell_name,\n"
     ]
    },
    {
     "data": {
      "text/html": [
       "<div>\n",
       "<style scoped>\n",
       "    .dataframe tbody tr th:only-of-type {\n",
       "        vertical-align: middle;\n",
       "    }\n",
       "\n",
       "    .dataframe tbody tr th {\n",
       "        vertical-align: top;\n",
       "    }\n",
       "\n",
       "    .dataframe thead th {\n",
       "        text-align: right;\n",
       "    }\n",
       "</style>\n",
       "<table border=\"1\" class=\"dataframe\">\n",
       "  <thead>\n",
       "    <tr style=\"text-align: right;\">\n",
       "      <th></th>\n",
       "      <th>last_name</th>\n",
       "      <th>first_name</th>\n",
       "      <th>middle_initial</th>\n",
       "      <th>gender</th>\n",
       "      <th>race</th>\n",
       "      <th>birthyear</th>\n",
       "      <th>age</th>\n",
       "      <th>status</th>\n",
       "      <th>appointment_date</th>\n",
       "      <th>position_no</th>\n",
       "      <th>...</th>\n",
       "      <th>star7</th>\n",
       "      <th>star8</th>\n",
       "      <th>star9</th>\n",
       "      <th>star10</th>\n",
       "      <th>star11</th>\n",
       "      <th>sworn</th>\n",
       "      <th>unit_id</th>\n",
       "      <th>unit_detail</th>\n",
       "      <th>star</th>\n",
       "      <th>uid</th>\n",
       "    </tr>\n",
       "  </thead>\n",
       "  <tbody>\n",
       "    <tr>\n",
       "      <th>0</th>\n",
       "      <td>ABBOTT</td>\n",
       "      <td>CARMELLA</td>\n",
       "      <td>A</td>\n",
       "      <td>F</td>\n",
       "      <td>NaN</td>\n",
       "      <td>NaN</td>\n",
       "      <td>32.0</td>\n",
       "      <td>NaN</td>\n",
       "      <td>2018-02-20</td>\n",
       "      <td>9161</td>\n",
       "      <td>...</td>\n",
       "      <td>NaN</td>\n",
       "      <td>NaN</td>\n",
       "      <td>NaN</td>\n",
       "      <td>NaN</td>\n",
       "      <td>NaN</td>\n",
       "      <td>Y</td>\n",
       "      <td>37.0</td>\n",
       "      <td>NaN</td>\n",
       "      <td>NaN</td>\n",
       "      <td>de78a795-cb26-472d-a66d-667ef937f3c0</td>\n",
       "    </tr>\n",
       "    <tr>\n",
       "      <th>1</th>\n",
       "      <td>ABDULLAH</td>\n",
       "      <td>LAKENYA</td>\n",
       "      <td>N</td>\n",
       "      <td>F</td>\n",
       "      <td>BLACK</td>\n",
       "      <td>NaN</td>\n",
       "      <td>37.0</td>\n",
       "      <td>NaN</td>\n",
       "      <td>2004-08-31</td>\n",
       "      <td>9111</td>\n",
       "      <td>...</td>\n",
       "      <td>NaN</td>\n",
       "      <td>NaN</td>\n",
       "      <td>NaN</td>\n",
       "      <td>NaN</td>\n",
       "      <td>NaN</td>\n",
       "      <td>N</td>\n",
       "      <td>8.0</td>\n",
       "      <td>NaN</td>\n",
       "      <td>50128.0</td>\n",
       "      <td>19bb7417-a3cc-42d6-98d8-ff87e6a9d039</td>\n",
       "    </tr>\n",
       "    <tr>\n",
       "      <th>2</th>\n",
       "      <td>ABFALL</td>\n",
       "      <td>RICHARD</td>\n",
       "      <td>C</td>\n",
       "      <td>M</td>\n",
       "      <td>WHITE</td>\n",
       "      <td>NaN</td>\n",
       "      <td>30.0</td>\n",
       "      <td>NaN</td>\n",
       "      <td>2017-05-16</td>\n",
       "      <td>9161</td>\n",
       "      <td>...</td>\n",
       "      <td>NaN</td>\n",
       "      <td>NaN</td>\n",
       "      <td>NaN</td>\n",
       "      <td>NaN</td>\n",
       "      <td>NaN</td>\n",
       "      <td>Y</td>\n",
       "      <td>16.0</td>\n",
       "      <td>11.0</td>\n",
       "      <td>10000.0</td>\n",
       "      <td>201bfaad-7b90-41d2-9dbd-4e430e458882</td>\n",
       "    </tr>\n",
       "    <tr>\n",
       "      <th>3</th>\n",
       "      <td>ABOUASSI</td>\n",
       "      <td>CHADI</td>\n",
       "      <td></td>\n",
       "      <td>M</td>\n",
       "      <td>WHITE HISPANIC</td>\n",
       "      <td>NaN</td>\n",
       "      <td>26.0</td>\n",
       "      <td>NaN</td>\n",
       "      <td>2017-05-16</td>\n",
       "      <td>9161</td>\n",
       "      <td>...</td>\n",
       "      <td>NaN</td>\n",
       "      <td>NaN</td>\n",
       "      <td>NaN</td>\n",
       "      <td>NaN</td>\n",
       "      <td>NaN</td>\n",
       "      <td>Y</td>\n",
       "      <td>15.0</td>\n",
       "      <td>10.0</td>\n",
       "      <td>10523.0</td>\n",
       "      <td>9fd1429a-ff56-40d8-912a-91e9d2a30a29</td>\n",
       "    </tr>\n",
       "    <tr>\n",
       "      <th>4</th>\n",
       "      <td>ABOUZEID</td>\n",
       "      <td>TAMER</td>\n",
       "      <td>NaN</td>\n",
       "      <td>M</td>\n",
       "      <td>NaN</td>\n",
       "      <td>NaN</td>\n",
       "      <td>NaN</td>\n",
       "      <td>NaN</td>\n",
       "      <td>2018-02-23</td>\n",
       "      <td>1255</td>\n",
       "      <td>...</td>\n",
       "      <td>NaN</td>\n",
       "      <td>NaN</td>\n",
       "      <td>NaN</td>\n",
       "      <td>NaN</td>\n",
       "      <td>NaN</td>\n",
       "      <td>N</td>\n",
       "      <td>83.0</td>\n",
       "      <td>NaN</td>\n",
       "      <td>NaN</td>\n",
       "      <td>8bb6007d-6ffc-4033-8292-1fe4a2993e52</td>\n",
       "    </tr>\n",
       "  </tbody>\n",
       "</table>\n",
       "<p>5 rows × 30 columns</p>\n",
       "</div>"
      ],
      "text/plain": [
       "  last_name first_name middle_initial gender            race  birthyear   age  \\\n",
       "0    ABBOTT   CARMELLA              A      F             NaN        NaN  32.0   \n",
       "1  ABDULLAH    LAKENYA              N      F           BLACK        NaN  37.0   \n",
       "2    ABFALL    RICHARD              C      M           WHITE        NaN  30.0   \n",
       "3  ABOUASSI      CHADI                     M  WHITE HISPANIC        NaN  26.0   \n",
       "4  ABOUZEID      TAMER            NaN      M             NaN        NaN   NaN   \n",
       "\n",
       "  status appointment_date position_no  ... star7  star8 star9 star10  star11  \\\n",
       "0    NaN       2018-02-20        9161  ...   NaN    NaN   NaN    NaN     NaN   \n",
       "1    NaN       2004-08-31        9111  ...   NaN    NaN   NaN    NaN     NaN   \n",
       "2    NaN       2017-05-16        9161  ...   NaN    NaN   NaN    NaN     NaN   \n",
       "3    NaN       2017-05-16        9161  ...   NaN    NaN   NaN    NaN     NaN   \n",
       "4    NaN       2018-02-23        1255  ...   NaN    NaN   NaN    NaN     NaN   \n",
       "\n",
       "   sworn  unit_id  unit_detail     star                                   uid  \n",
       "0      Y     37.0          NaN      NaN  de78a795-cb26-472d-a66d-667ef937f3c0  \n",
       "1      N      8.0          NaN  50128.0  19bb7417-a3cc-42d6-98d8-ff87e6a9d039  \n",
       "2      Y     16.0         11.0  10000.0  201bfaad-7b90-41d2-9dbd-4e430e458882  \n",
       "3      Y     15.0         10.0  10523.0  9fd1429a-ff56-40d8-912a-91e9d2a30a29  \n",
       "4      N     83.0          NaN      NaN  8bb6007d-6ffc-4033-8292-1fe4a2993e52  \n",
       "\n",
       "[5 rows x 30 columns]"
      ]
     },
     "execution_count": 5,
     "metadata": {},
     "output_type": "execute_result"
    }
   ],
   "source": [
    "roster = pd.read_csv('../final/roster.csv')\n",
    "roster.head()"
   ]
  },
  {
   "cell_type": "code",
   "execution_count": 6,
   "id": "7e738ac3",
   "metadata": {},
   "outputs": [
    {
     "data": {
      "image/png": "[encoded data removed]",
      "text/plain": [
       "<Figure size 1728x288 with 3 Axes>"
      ]
     },
     "metadata": {
      "needs_background": "light"
     },
     "output_type": "display_data"
    }
   ],
   "source": [
    "appointment_dates = pd.to_datetime(roster['appointment_date'].values)\n",
    "resignation_dates = pd.to_datetime(roster['resignation_date'].values)\n",
    "\n",
    "plt.figure(figsize = (24,4))\n",
    "plt.subplot(131)\n",
    "plt.hist(appointment_dates)\n",
    "plt.xlabel('Years', fontsize = 18)\n",
    "plt.xticks(fontsize = 18)\n",
    "plt.yticks(fontsize = 18)\n",
    "plt.ylabel('# Appointed Officers', fontsize = 18)\n",
    "\n",
    "plt.subplot(132)\n",
    "plt.hist(resignation_dates)\n",
    "plt.xlabel('Years', fontsize = 18)\n",
    "plt.xticks(fontsize = 18)\n",
    "plt.yticks(fontsize = 18)\n",
    "plt.ylabel('# Resigned Officers', fontsize = 18)\n",
    "# plt.show()\n",
    "\n",
    "# total number of active officers\n",
    "\n",
    "def convert_to_year(range_time, low, high):\n",
    "    delta_time = high-low\n",
    "    full_date = low + range_time*delta_time\n",
    "    return full_date.year\n",
    "\n",
    "first_appointment_date, last_appointment_date = min(appointment_dates), max(appointment_dates)\n",
    "delta_time = last_appointment_date - first_appointment_date\n",
    "actives = (pd.to_datetime(roster['appointment_date'].values) - first_appointment_date)/delta_time\n",
    "inactives = (pd.to_datetime(roster['resignation_date'].values) - first_appointment_date)/delta_time\n",
    "inactives = np.nan_to_num(inactives, nan=1)\n",
    "how_many_active = []\n",
    "how_many_active_dropped_nans = []\n",
    "range_time = np.linspace(0,1,50)\n",
    "years = [convert_to_year(r, first_appointment_date, last_appointment_date) for r in range_time]\n",
    "for r in range_time:\n",
    "    how_many_active.append(np.sum((actives<r)*(inactives>r)))\n",
    "    \n",
    "plt.subplot(133)\n",
    "plt.plot(years[1:-1], how_many_active[1:-1], lw = 3)\n",
    "plt.ylabel('# Active officers', fontsize = 18)\n",
    "plt.xlabel('Year', fontsize = 18)\n",
    "plt.xticks(fontsize = 18)\n",
    "plt.yticks(fontsize = 18)\n",
    "plt.tight_layout()\n",
    "plt.show()"
   ]
  },
  {
   "cell_type": "code",
   "execution_count": 12,
   "id": "f457730c",
   "metadata": {
    "collapsed": true
   },
   "outputs": [
    {
     "data": {
      "text/plain": [
       "(M    28316\n",
       " F     7122\n",
       " X       12\n",
       " Name: gender, dtype: int64,\n",
       " WHITE                      21047\n",
       " BLACK                       8599\n",
       " WHITE HISPANIC              4811\n",
       " ASIAN/PACIFIC ISLANDER       582\n",
       " AMER IND/ALASKAN NATIVE       67\n",
       " BLACK HISPANIC                 9\n",
       " Name: race, dtype: int64,\n",
       " 1947.0    921\n",
       " 1948.0    858\n",
       " 1946.0    810\n",
       " 1970.0    799\n",
       " 1949.0    767\n",
       "          ... \n",
       " 1993.0     71\n",
       " 1994.0     55\n",
       " 1917.0     42\n",
       " 1995.0     31\n",
       " 1916.0     17\n",
       " Name: birthyear, Length: 80, dtype: int64)"
      ]
     },
     "execution_count": 12,
     "metadata": {},
     "output_type": "execute_result"
    }
   ],
   "source": [
    "gender_count, race_count, birthyear_count, status_count = roster['gender'].value_counts(), roster['race'].value_counts(), roster['birthyear'].sort_values().value_counts(), roster['status'].value_counts()\n",
    "gender_count, race_count, birthyear_count, "
   ]
  },
  {
   "cell_type": "code",
   "execution_count": 77,
   "id": "74caf7b1",
   "metadata": {},
   "outputs": [
    {
     "ename": "TypeError",
     "evalue": "'>' not supported between instances of 'str' and 'float'",
     "output_type": "error",
     "traceback": [
      "\u001b[0;31m---------------------------------------------------------------------------\u001b[0m",
      "\u001b[0;31mTypeError\u001b[0m                                 Traceback (most recent call last)",
      "\u001b[0;32m<ipython-input-77-f979e931d173>\u001b[0m in \u001b[0;36m<module>\u001b[0;34m\u001b[0m\n\u001b[1;32m      7\u001b[0m \u001b[0mbins_text\u001b[0m \u001b[0;34m=\u001b[0m \u001b[0;34m[\u001b[0m\u001b[0mstr\u001b[0m\u001b[0;34m(\u001b[0m\u001b[0mbins\u001b[0m\u001b[0;34m[\u001b[0m\u001b[0mt\u001b[0m\u001b[0;34m]\u001b[0m\u001b[0;34m)\u001b[0m\u001b[0;34m[\u001b[0m\u001b[0;34m-\u001b[0m\u001b[0;36m2\u001b[0m\u001b[0;34m:\u001b[0m\u001b[0;34m]\u001b[0m\u001b[0;34m+\u001b[0m\u001b[0;34m'-'\u001b[0m\u001b[0;34m+\u001b[0m\u001b[0mstr\u001b[0m\u001b[0;34m(\u001b[0m\u001b[0mbins\u001b[0m\u001b[0;34m[\u001b[0m\u001b[0mt\u001b[0m\u001b[0;34m]\u001b[0m\u001b[0;34m+\u001b[0m\u001b[0mwidth_year_windows\u001b[0m\u001b[0;34m-\u001b[0m\u001b[0;36m1\u001b[0m\u001b[0;34m)\u001b[0m\u001b[0;34m[\u001b[0m\u001b[0;34m-\u001b[0m\u001b[0;36m2\u001b[0m\u001b[0;34m:\u001b[0m\u001b[0;34m]\u001b[0m \u001b[0;32mfor\u001b[0m \u001b[0mt\u001b[0m \u001b[0;32min\u001b[0m \u001b[0mrange\u001b[0m\u001b[0;34m(\u001b[0m\u001b[0mlen\u001b[0m\u001b[0;34m(\u001b[0m\u001b[0mbins\u001b[0m\u001b[0;34m)\u001b[0m\u001b[0;34m)\u001b[0m\u001b[0;34m]\u001b[0m\u001b[0;34m\u001b[0m\u001b[0;34m\u001b[0m\u001b[0m\n\u001b[1;32m      8\u001b[0m \u001b[0;34m\u001b[0m\u001b[0m\n\u001b[0;32m----> 9\u001b[0;31m \u001b[0mact_roster\u001b[0m \u001b[0;34m=\u001b[0m \u001b[0mroster\u001b[0m\u001b[0;34m.\u001b[0m\u001b[0mfillna\u001b[0m\u001b[0;34m(\u001b[0m\u001b[0;34m'resignation_date'\u001b[0m\u001b[0;34m,\u001b[0m \u001b[0mmax\u001b[0m\u001b[0;34m(\u001b[0m\u001b[0mroster\u001b[0m\u001b[0;34m[\u001b[0m\u001b[0;34m'resignation_date'\u001b[0m\u001b[0;34m]\u001b[0m\u001b[0;34m.\u001b[0m\u001b[0mvalues\u001b[0m\u001b[0;34m)\u001b[0m\u001b[0;34m)\u001b[0m\u001b[0;34m\u001b[0m\u001b[0;34m\u001b[0m\u001b[0m\n\u001b[0m\u001b[1;32m     10\u001b[0m \u001b[0;31m# act_yearz = roster['birthyear'].sort_values().dropna()\u001b[0m\u001b[0;34m\u001b[0m\u001b[0;34m\u001b[0m\u001b[0;34m\u001b[0m\u001b[0m\n\u001b[1;32m     11\u001b[0m \u001b[0;31m# width_year_windows = 5\u001b[0m\u001b[0;34m\u001b[0m\u001b[0;34m\u001b[0m\u001b[0;34m\u001b[0m\u001b[0m\n",
      "\u001b[0;31mTypeError\u001b[0m: '>' not supported between instances of 'str' and 'float'"
     ]
    }
   ],
   "source": [
    "yearz = roster['birthyear'].sort_values().dropna()\n",
    "min_year = min(yearz.values) \n",
    "max_year = max(yearz.values)\n",
    "width_year_windows = 5\n",
    "binned = np.bincount((yearz - min_year)//width_year_windows)\n",
    "bins = np.arange(min_year, max_year, width_year_windows, dtype = int)\n",
    "bins_text = [str(bins[t])[-2:]+'-'+str(bins[t]+width_year_windows-1)[-2:] for t in range(len(bins))]\n",
    "\n",
    "act_roster = roster[roster['resignation_date']>]\n",
    "# act_yearz = roster['birthyear'].sort_values().dropna()\n",
    "# width_year_windows = 5\n",
    "# act_binned = np.bincount((act_yearz - min_year)//width_year_windows)"
   ]
  },
  {
   "cell_type": "code",
   "execution_count": 93,
   "id": "36b62a3b",
   "metadata": {},
   "outputs": [
    {
     "data": {
      "text/plain": [
       "0        False\n",
       "1        False\n",
       "2        False\n",
       "3        False\n",
       "4        False\n",
       "         ...  \n",
       "35445    False\n",
       "35446    False\n",
       "35447    False\n",
       "35448    False\n",
       "35449    False\n",
       "Name: resignation_date, Length: 35450, dtype: bool"
      ]
     },
     "execution_count": 93,
     "metadata": {},
     "output_type": "execute_result"
    }
   ],
   "source": [
    "pd.to_datetime(roster['resignation_date']) > pd.to_datetime('2012-03-15')"
   ]
  },
  {
   "cell_type": "code",
   "execution_count": 76,
   "id": "9fd80d59",
   "metadata": {},
   "outputs": [
    {
     "ename": "NameError",
     "evalue": "name 'act_binned' is not defined",
     "output_type": "error",
     "traceback": [
      "\u001b[0;31m---------------------------------------------------------------------------\u001b[0m",
      "\u001b[0;31mNameError\u001b[0m                                 Traceback (most recent call last)",
      "\u001b[0;32m<ipython-input-76-5541d453e425>\u001b[0m in \u001b[0;36m<module>\u001b[0;34m\u001b[0m\n\u001b[1;32m      5\u001b[0m \u001b[0mplt\u001b[0m\u001b[0;34m.\u001b[0m\u001b[0mvlines\u001b[0m\u001b[0;34m(\u001b[0m\u001b[0mx\u001b[0m \u001b[0;34m=\u001b[0m \u001b[0mbins\u001b[0m\u001b[0;34m-\u001b[0m\u001b[0;36m1\u001b[0m\u001b[0;34m,\u001b[0m \u001b[0mymin\u001b[0m \u001b[0;34m=\u001b[0m \u001b[0mnp\u001b[0m\u001b[0;34m.\u001b[0m\u001b[0mzeros\u001b[0m\u001b[0;34m(\u001b[0m\u001b[0mlen\u001b[0m\u001b[0;34m(\u001b[0m\u001b[0mbins\u001b[0m\u001b[0;34m)\u001b[0m\u001b[0;34m)\u001b[0m\u001b[0;34m,\u001b[0m \u001b[0mymax\u001b[0m \u001b[0;34m=\u001b[0m \u001b[0mbinned\u001b[0m\u001b[0;34m,\u001b[0m \u001b[0mcolor\u001b[0m \u001b[0;34m=\u001b[0m \u001b[0;34m'blue'\u001b[0m\u001b[0;34m)\u001b[0m\u001b[0;34m\u001b[0m\u001b[0;34m\u001b[0m\u001b[0m\n\u001b[1;32m      6\u001b[0m \u001b[0;34m\u001b[0m\u001b[0m\n\u001b[0;32m----> 7\u001b[0;31m \u001b[0mplt\u001b[0m\u001b[0;34m.\u001b[0m\u001b[0mscatter\u001b[0m\u001b[0;34m(\u001b[0m\u001b[0mbins\u001b[0m\u001b[0;34m+\u001b[0m\u001b[0;36m1\u001b[0m\u001b[0;34m,\u001b[0m \u001b[0mact_binned\u001b[0m\u001b[0;34m,\u001b[0m \u001b[0mcolor\u001b[0m \u001b[0;34m=\u001b[0m \u001b[0;34m'r'\u001b[0m\u001b[0;34m)\u001b[0m\u001b[0;34m\u001b[0m\u001b[0;34m\u001b[0m\u001b[0m\n\u001b[0m\u001b[1;32m      8\u001b[0m \u001b[0mplt\u001b[0m\u001b[0;34m.\u001b[0m\u001b[0mvlines\u001b[0m\u001b[0;34m(\u001b[0m\u001b[0mx\u001b[0m \u001b[0;34m=\u001b[0m \u001b[0mbins\u001b[0m\u001b[0;34m+\u001b[0m\u001b[0;36m1\u001b[0m\u001b[0;34m,\u001b[0m \u001b[0mymin\u001b[0m \u001b[0;34m=\u001b[0m \u001b[0mnp\u001b[0m\u001b[0;34m.\u001b[0m\u001b[0mzeros\u001b[0m\u001b[0;34m(\u001b[0m\u001b[0mlen\u001b[0m\u001b[0;34m(\u001b[0m\u001b[0mbins\u001b[0m\u001b[0;34m)\u001b[0m\u001b[0;34m)\u001b[0m\u001b[0;34m,\u001b[0m \u001b[0mymax\u001b[0m \u001b[0;34m=\u001b[0m \u001b[0mact_binned\u001b[0m\u001b[0;34m,\u001b[0m \u001b[0mcolor\u001b[0m \u001b[0;34m=\u001b[0m \u001b[0;34m'r'\u001b[0m\u001b[0;34m)\u001b[0m\u001b[0;34m\u001b[0m\u001b[0;34m\u001b[0m\u001b[0m\n\u001b[1;32m      9\u001b[0m \u001b[0;34m\u001b[0m\u001b[0m\n",
      "\u001b[0;31mNameError\u001b[0m: name 'act_binned' is not defined"
     ]
    },
    {
     "data": {
      "image/png": "[encoded data removed]",
      "text/plain": [
       "<Figure size 720x216 with 1 Axes>"
      ]
     },
     "metadata": {
      "needs_background": "light"
     },
     "output_type": "display_data"
    }
   ],
   "source": [
    "plt.figure(figsize = (10,3))\n",
    "ax = plt.subplot(111)\n",
    "\n",
    "plt.scatter(bins-1, binned, color = 'blue')\n",
    "plt.vlines(x = bins-1, ymin = np.zeros(len(bins)), ymax = binned, color = 'blue')\n",
    "\n",
    "plt.scatter(bins+1, act_binned, color = 'r')\n",
    "plt.vlines(x = bins+1, ymin = np.zeros(len(bins)), ymax = act_binned, color = 'r')\n",
    "\n",
    "plt.xticks(bins, bins_text)\n",
    "plt.setp(ax.xaxis.get_majorticklabels(),rotation=45, ha=\"right\", rotation_mode=\"anchor\") \n",
    "plt.ylabel('# officers', fontsize = 15)\n",
    "plt.xlabel('Birthyear', fontsize = 15)\n",
    "plt.xticks(fontsize = 15)\n",
    "plt.yticks(fontsize = 15)\n",
    "plt.show()"
   ]
  },
  {
   "cell_type": "code",
   "execution_count": null,
   "id": "3b76732f",
   "metadata": {},
   "outputs": [],
   "source": [
    "NORMALIZED = True\n",
    "colormap = plt.cm.gist_ncar #nipy_spectral, Set1,Paired  \n",
    "\n",
    "shift = [-.2,0,.2]\n",
    "fig =plt.figure(figsize = (12,3))\n",
    "# plt.rc('xtick', labelsize= 50) \n",
    "plt.rc('ytick', labelsize= 35) \n",
    "# plt.rc('title', fontsize = 16)\n",
    "\n",
    "plt.style.use('default')\n",
    "gs=GridSpec(1,10) \n",
    "col = ['blue', 'red', 'green']\n",
    "\n",
    "ax1 = fig.add_subplot(gs[0,0]) # First row, first column\n",
    "cols = ['red', 'blue', 'green']\n",
    "plt.scatter(np.arange(len(gender_count.values)), gender_count.values, color = cols)\n",
    "plt.vlines(x = np.arange(len(gender_count.values)), ymin = np.zeros(len(gender_count.values)), ymax = gender_count.values, color = cols)\n",
    "plt.xticks(np.arange(3), ['M', 'F', 'X'], fontsize = 14)\n",
    "plt.xlim(-.5,2.5)\n",
    "\n",
    "ax2=fig.add_subplot(gs[0,1:3]) \n",
    "race_ticks = {}\n",
    "race_ticks['WHITE'] = 'White'\n",
    "race_ticks['BLACK'] = 'Black'\n",
    "race_ticks['WHITE HISPANIC'] = 'Hisp.'\n",
    "race_ticks['ASIAN/PACIFIC ISLANDER'] = 'Asian'\n",
    "race_ticks['AMER IND/ALASKAN NATIVE'] = 'Am. Ind.'\n",
    "race_ticks['BLACK Hispanic'] = 'Bk. Hisp.'\n",
    "\n",
    "cols = ['red', 'b', 'g', 'purple', 'orange', 'cyan']   \n",
    "plt.scatter(np.arange(len(race_count.values)), race_count.values, color = cols)\n",
    "plt.vlines(x = np.arange(len(race_count.values)), ymin = np.zeros(len(race_count.values)), ymax = race_count.values, colors=cols)\n",
    "plt.xlabel('Race', fontsize = 15)\n",
    "plt.xticks(np.arange(len(race_ticks.keys())), race_ticks.values(), fontsize = 11)\n",
    "\n",
    "plt.setp( ax2.xaxis.get_majorticklabels(), rotation=45, ha=\"right\", rotation_mode=\"anchor\") \n",
    "\n",
    "ax3=fig.add_subplot(gs[0,3:6]) # First row, second column\n",
    "\n",
    "\n",
    "plt.xticks(np.arange(len(yof_ticks)), yof_ticks, fontsize = 14)\n",
    "plt.xlabel('Years on the force', fontsize = 15)\n",
    "plt.setp( ax3.xaxis.get_majorticklabels(), rotation=45, ha=\"right\", rotation_mode=\"anchor\") \n",
    "plt.yticks([0,.2,.4,.6], [0,20,40,60], fontsize = 15)\n",
    "\n",
    "ax5=fig.add_subplot(gs[0,6:]) # Second row, span all columns\n",
    "\n",
    "# age_ticks = [str(20+5*k)+'-'+str(24+5*k) for k in range(len(age_dic.keys()))]\n",
    "# for key in age_dic:\n",
    "#     if key not in age_sh_dic.keys():\n",
    "#         age_sh_dic[key] = []\n",
    "\n",
    "\n",
    "# for _, dic in enumerate([age_dic, age_sh_dic]): #, age_non_sh_dic]):\n",
    "    \n",
    "#     sorted_age_keys, order = np.asarray(np.sort(list(dic.keys())), dtype = float), np.argsort(list(dic.keys()))\n",
    "#     sorted_age_vals = np.array([len(g) for g_, g in dic.items()])[order]\n",
    "#     if NORMALIZED == True:\n",
    "#         sorted_age_vals = sorted_age_vals/sorted_age_vals.sum()\n",
    "  \n",
    "#     plt.scatter(sorted_age_keys+shift[_], sorted_age_vals, color = col[_], label = lab[_])\n",
    "#     plt.vlines(x = sorted_age_keys+shift[_], ymin = np.zeros(len(sorted_age_keys)), ymax = sorted_age_vals, color = col[_])\n",
    "\n",
    "# plt.yticks([0,.1,.2,.3], [0,10,20,30])\n",
    "# plt.legend(fontsize = 15, loc = 'upper left')\n",
    "\n",
    "# plt.xlabel('Year of Birth', fontsize = 15)\n",
    "# plt.xticks(np.arange(len(age_dic.keys())), age_ticks, rotation = 90, fontsize = 14)\n",
    "# plt.setp( ax5.xaxis.get_majorticklabels(), rotation=45, ha=\"right\", rotation_mode=\"anchor\") \n",
    "\n",
    "# plt.yticks(fontsize = 15)\n",
    "# # plt.yticks(fontsize = 15)\n",
    "fig.tight_layout()\n",
    "plt.show()"
   ]
  },
  {
   "cell_type": "code",
   "execution_count": null,
   "id": "6521438d",
   "metadata": {},
   "outputs": [],
   "source": [
    "roster.value_counts('birthyear', bins = 10)"
   ]
  },
  {
   "cell_type": "code",
   "execution_count": null,
   "id": "39aa9493",
   "metadata": {},
   "outputs": [],
   "source": [
    "# profiles = pd.read_csv('../final/profiles.csv')\n",
    "# profiles.head()"
   ]
  },
  {
   "cell_type": "code",
   "execution_count": null,
   "id": "27c159cb",
   "metadata": {},
   "outputs": [],
   "source": [
    "# appointment date distribution\n",
    "print('Number of distinct uids in database:', len(set(profiles['uid'])))\n",
    "profiles = profiles.sort_values('appointment_date', ascending=False).drop_duplicates('uid').sort_index()\n",
    "# profiles.drop_duplicates(subset='uid', keep='first')\n",
    "appointment_dates = pd.to_datetime(profiles['appointment_date'].values)\n",
    "resignation_dates = pd.to_datetime(profiles['resignation_date'].values)"
   ]
  },
  {
   "cell_type": "code",
   "execution_count": null,
   "id": "f373f14e",
   "metadata": {},
   "outputs": [],
   "source": [
    "plt.figure(figsize = (20,4))\n",
    "plt.subplot(121)\n",
    "plt.hist(appointment_dates)\n",
    "plt.xlabel('Years', fontsize = 18)\n",
    "plt.xticks(fontsize = 18)\n",
    "plt.yticks(fontsize = 18)\n",
    "plt.ylabel('# Appointed Officers', fontsize = 18)\n",
    "\n",
    "plt.subplot(122)\n",
    "plt.hist(resignation_dates)\n",
    "plt.xlabel('Years', fontsize = 18)\n",
    "plt.xticks(fontsize = 18)\n",
    "plt.yticks(fontsize = 18)\n",
    "plt.ylabel('# Resigned Officers', fontsize = 18)\n",
    "plt.show()"
   ]
  },
  {
   "cell_type": "code",
   "execution_count": null,
   "id": "181550e1",
   "metadata": {},
   "outputs": [],
   "source": [
    "# total number of active officers\n",
    "\n",
    "def convert_to_year(range_time, low, high):\n",
    "    delta_time = high-low\n",
    "    full_date = low + range_time*delta_time\n",
    "    return full_date.year\n",
    "\n",
    "first_appointment_date, last_appointment_date = min(appointment_dates), max(appointment_dates)\n",
    "delta_time = last_appointment_date - first_appointment_date\n",
    "actives = (pd.to_datetime(profiles['appointment_date'].values) - first_appointment_date)/delta_time\n",
    "inactives = (pd.to_datetime(profiles['resignation_date'].values) - first_appointment_date)/delta_time\n",
    "inactives = np.nan_to_num(inactives, nan=1)\n",
    "how_many_active = []\n",
    "how_many_active_dropped_nans = []\n",
    "range_time = np.linspace(0,1,50)\n",
    "years = [convert_to_year(r, first_appointment_date, last_appointment_date) for r in range_time]\n",
    "for r in range_time:\n",
    "    how_many_active.append(np.sum((actives<r)*(inactives>r)))\n",
    "    \n",
    "plt.figure()\n",
    "plt.subplot(111)\n",
    "plt.plot(years[1:-1], how_many_active[1:-1], lw = 3)\n",
    "plt.ylabel('# Active officers', fontsize = 14)\n",
    "plt.xlabel('Year', fontsize = 14)\n",
    "plt.xticks(fontsize = 14)\n",
    "plt.yticks(fontsize = 14)\n",
    "plt.show()"
   ]
  },
  {
   "cell_type": "code",
   "execution_count": null,
   "id": "4f28e387",
   "metadata": {},
   "outputs": [],
   "source": [
    "# profiles = profiles.dropna(subset=['appointment_date', 'resignation_date'])\n",
    "\n",
    "# appointment_dates = pd.to_datetime(profiles['appointment_date'].values)\n",
    "# resignation_dates = pd.to_datetime(profiles['resignation_date'].values)\n",
    "\n",
    "# first_appointment_date, last_appointment_date = min(appointment_dates), max(appointment_dates)\n",
    "# delta_time = last_appointment_date - first_appointment_date\n",
    "# actives = (pd.to_datetime(profiles['appointment_date'].values) - first_appointment_date)/delta_time\n",
    "# inactives = (pd.to_datetime(profiles['resignation_date'].values) - first_appointment_date)/delta_time\n",
    "# inactives = np.nan_to_num(inactives, nan=1)\n",
    "# how_many_active = []\n",
    "# how_many_active_dropped_nans = []\n",
    "# range_time = np.linspace(0,1,50)\n",
    "# years = [convert_to_year(r, first_appointment_date, last_appointment_date) for r in range_time]\n",
    "# for r in range_time:\n",
    "#     how_many_active.append(np.sum((actives<r)*(inactives>r)))\n",
    "\n",
    "# plt.figure()\n",
    "# plt.subplot(111)\n",
    "# plt.plot(years[1:-1], how_many_active[1:-1], lw = 3)\n",
    "# plt.ylabel('# Active officers', fontsize = 14)\n",
    "# plt.xlabel('Year', fontsize = 14)\n",
    "# plt.xticks(fontsize = 14)\n",
    "# plt.yticks(fontsize = 14)\n",
    "# plt.show()"
   ]
  },
  {
   "cell_type": "code",
   "execution_count": null,
   "id": "5f4bc962",
   "metadata": {},
   "outputs": [],
   "source": [
    "roster = pd.read_csv('../final/roster.csv', low_memory=0)\n",
    "roster.head()"
   ]
  },
  {
   "cell_type": "code",
   "execution_count": null,
   "id": "d256afdf",
   "metadata": {},
   "outputs": [],
   "source": [
    "# print(roster.columns,'\\n', profiles.columns)\n",
    "\n",
    "roster[roster['last_name']=='ABBOTT'][roster['first_name']=='CARMELLA']"
   ]
  },
  {
   "cell_type": "code",
   "execution_count": null,
   "id": "0d195aaa",
   "metadata": {
    "scrolled": true
   },
   "outputs": [],
   "source": [
    "profiles[profiles['last_name']=='ABBOTT'][profiles['first_name']=='CARMELLA']"
   ]
  },
  {
   "cell_type": "code",
   "execution_count": null,
   "id": "caccc7da",
   "metadata": {},
   "outputs": [],
   "source": [
    "profiles.dropna(subset = ['birthyear'])"
   ]
  },
  {
   "cell_type": "code",
   "execution_count": null,
   "id": "ea5cd956",
   "metadata": {},
   "outputs": [],
   "source": [
    "profiles = profiles = pd.read_csv('../final/profiles.csv')\n",
    "roster = pd.read_csv('../final/roster.csv')\n"
   ]
  }
 ],
 "metadata": {
  "kernelspec": {
   "display_name": "Python 3",
   "language": "python",
   "name": "python3"
  },
  "language_info": {
   "codemirror_mode": {
    "name": "ipython",
    "version": 3
   },
   "file_extension": ".py",
   "mimetype": "text/x-python",
   "name": "python",
   "nbconvert_exporter": "python",
   "pygments_lexer": "ipython3",
   "version": "3.8.8"
  }
 },
 "nbformat": 4,
 "nbformat_minor": 5
}
