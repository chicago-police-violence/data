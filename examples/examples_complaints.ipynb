{
 "cells": [
  {
   "cell_type": "code",
   "execution_count": null,
   "id": "2558975d",
   "metadata": {},
   "outputs": [],
   "source": [
    "import numpy as np\n",
    "import pandas as pd\n",
    "from tqdm import tqdm_notebook\n",
    "import matplotlib.pyplot as plt\n",
    "from matplotlib.gridspec import GridSpec\n",
    "import seaborn as sns"
   ]
  },
  {
   "cell_type": "code",
   "execution_count": null,
   "id": "f3976cbe-da7c-4547-ae04-678fac1ce46a",
   "metadata": {},
   "outputs": [],
   "source": [
    "# load the roster (for race + gender info)\n",
    "roster = pd.read_csv('../final/roster.csv')\n",
    "roster.head()"
   ]
  },
  {
   "cell_type": "code",
   "execution_count": null,
   "id": "05735426",
   "metadata": {},
   "outputs": [],
   "source": [
    "# load the complaints\n",
    "complaints  = pd.read_csv('../final/complaints.csv')\n",
    "complaints.head()"
   ]
  },
  {
   "cell_type": "code",
   "execution_count": null,
   "id": "580d3d4d-07f8-423f-b184-6b8b62ad0620",
   "metadata": {},
   "outputs": [],
   "source": [
    "# load the complaints officers\n",
    "complaints_offs = pd.read_csv('../final/complaints_officers.csv')\n",
    "complaints_offs"
   ]
  },
  {
   "cell_type": "code",
   "execution_count": null,
   "id": "1198ba76",
   "metadata": {},
   "outputs": [],
   "source": [
    "year_range = min(pd.to_datetime(complaints['complaint_date'].values).year), max(pd.to_datetime(complaints['complaint_date'].values).year)\n",
    "length = 1+year_range[1]-year_range[0]\n",
    "events_per_year = np.bincount(pd.to_datetime(complaints['complaint_date'].values).year)[-length:]\n",
    "events_per_month = np.bincount(pd.to_datetime(complaints['complaint_date'].values).month)[1:]\n",
    "events_per_day = np.bincount(pd.to_datetime(complaints['complaint_date'].values).weekday)\n",
    "hours = pd.to_datetime(complaints['complaint_date'].values).hour\n",
    "hours = np.nan_to_num(hours, nan=24)\n",
    "events_per_hour = np.bincount(hours.astype(int))"
   ]
  },
  {
   "cell_type": "code",
   "execution_count": null,
   "id": "5fb08383",
   "metadata": {},
   "outputs": [],
   "source": [
    "plt.figure(figsize = (20,5))\n",
    "\n",
    "ax=plt.subplot(131)\n",
    "\n",
    "plt.scatter(np.arange(len(events_per_day)), events_per_day)\n",
    "plt.vlines(x = np.arange(len(events_per_day)), ymin = np.zeros(len(events_per_day)), ymax = events_per_day)\n",
    "dayticks = ['Mon', 'Tue', 'Wed', 'Thu', 'Fri', 'Sat', 'Sun']\n",
    "plt.xticks(np.arange(len(events_per_day)), dayticks, fontsize = 18)\n",
    "plt.yticks(fontsize = 18)\n",
    "plt.ylabel('# Complaints', fontsize = 18)\n",
    "plt.setp(ax.xaxis.get_majorticklabels(), rotation=45, ha=\"right\", rotation_mode=\"anchor\") \n",
    "plt.xlabel('Weekdays', fontsize = 18)\n",
    "\n",
    "ax=plt.subplot(132)\n",
    "\n",
    "plt.scatter(np.arange(len(events_per_month)), events_per_month)\n",
    "plt.vlines(x = np.arange(len(events_per_month)), ymin = np.zeros(len(events_per_month)), ymax = events_per_month)\n",
    "monthticks = ['Jan', 'Feb', 'Mar', 'Apr', 'May', 'Jun', 'Jul', 'Aug', 'Sep', 'Oct', 'Nov', 'Dec']\n",
    "plt.xticks(np.arange(len(events_per_month)), monthticks, fontsize = 18)\n",
    "plt.yticks(fontsize = 18)\n",
    "plt.setp(ax.xaxis.get_majorticklabels(), rotation=45, ha=\"right\", rotation_mode=\"anchor\") \n",
    "plt.xlabel('Months', fontsize = 18)\n",
    "\n",
    "ax = plt.subplot(133)\n",
    "plt.scatter(np.arange(year_range[0], year_range[1]+1, dtype = int), events_per_year)\n",
    "plt.vlines(x = np.arange(year_range[0], year_range[1]+1, dtype = int), ymin = np.zeros(len(events_per_year)), ymax = events_per_year)\n",
    "plt.xlabel('Years', fontsize = 18)\n",
    "plt.xticks(fontsize=18)\n",
    "plt.yticks(fontsize = 18)\n",
    "plt.setp(ax.xaxis.get_majorticklabels(), rotation=45, ha=\"right\", rotation_mode=\"anchor\") \n",
    "plt.tight_layout()\n",
    "plt.savefig('../doc/figs/complaints_times.pdf', dpi=1000, bbox_inches = 'tight')\n",
    "plt.show()"
   ]
  },
  {
   "cell_type": "code",
   "execution_count": null,
   "id": "3cf8492f-f9f8-4405-ad53-b0f4179114f3",
   "metadata": {},
   "outputs": [],
   "source": [
    "# create a map of shortnames of races\n",
    "races_short = {'WHITE' : 'White', \n",
    "              'BLACK' : 'Black',\n",
    "              'BLACK HISPANIC' : 'Bl. Hisp.',\n",
    "              'WHITE HISPANIC' : 'Wh. Hisp.',\n",
    "              'ASIAN/PACIFIC ISLANDER' : 'Asian/P.I.',\n",
    "              'AMER IND/ALASKAN NATIVE' : 'Indig.',\n",
    "              'Other' : 'Other'}"
   ]
  },
  {
   "cell_type": "code",
   "execution_count": null,
   "id": "df3688c0-da11-4ef8-888b-94602f13ceb6",
   "metadata": {},
   "outputs": [],
   "source": [
    "# build a map of UID -> (race, gender)\n",
    "trait_map = {}\n",
    "traits = ['race', 'gender']\n",
    "\n",
    "for i in range(roster.shape[0]):\n",
    "    trait_map[roster.uid.iloc[i]] = {tr : roster[tr].iloc[i] for tr in traits}\n",
    "\n",
    "# for each trait, add a column to the complaints_offs data using the map\n",
    "for tr in traits:\n",
    "    complaints_offs[tr] = complaints_offs.uid.map(lambda x : trait_map[x][tr])\n",
    "    \n",
    "# in the below plots, Asian/Pacific Islander, Indigenous, and Black Hispanic categories are too small to get reliable awards ratios.\n",
    "# group them into \"Other\"\n",
    "complaints_offs.race = complaints_offs.race.map(lambda x : 'Other' if x in ['ASIAN/PACIFIC ISLANDER', 'AMER IND/ALASKAN NATIVE', 'BLACK HISPANIC'] else x)\n",
    "roster.race = roster.race.map(lambda x : 'Other' if x in ['ASIAN/PACIFIC ISLANDER', 'AMER IND/ALASKAN NATIVE', 'BLACK HISPANIC'] else x)"
   ]
  },
  {
   "cell_type": "code",
   "execution_count": null,
   "id": "89c1a11e-eb3c-49dc-8a52-6d7436b0a9bd",
   "metadata": {},
   "outputs": [],
   "source": [
    "# aggregate the number of unique officers in each (race, gender) category\n",
    "num_offs = roster.groupby(['race', 'gender']).agg(['count'])\n",
    "num_offs.reset_index(inplace=True)\n",
    "num_offs['count'] = num_offs['uid']['count']\n",
    "# fix tuple colnames\n",
    "num_offs.columns = num_offs.columns.map(''.join)\n",
    "# restrict the dataframe to just (race, gender, count)\n",
    "num_offs = num_offs[['race', 'gender', 'count']]\n",
    "num_offs = num_offs.rename(columns = {'count' : 'officers'})\n",
    "# remove the 'X' gender (by visual inspection, these should be missing data -- not nonbinary genders)\n",
    "num_offs = num_offs[num_offs.gender != 'X']\n",
    "# replace races with shortnames\n",
    "num_offs.race = num_offs.race.map(races_short)\n",
    "num_offs.reset_index(inplace=True)\n",
    "num_offs"
   ]
  },
  {
   "cell_type": "code",
   "execution_count": null,
   "id": "1b6dd11c-5639-45b2-b2c1-212b7f3e66dc",
   "metadata": {},
   "outputs": [],
   "source": [
    "# aggregate the number of complaints in each (race, gender) category\n",
    "num_compls = complaints_offs.groupby(['race', 'gender']).agg(['count'])\n",
    "num_compls.reset_index(inplace=True)\n",
    "num_compls['count'] = num_compls['uid']['count']\n",
    "# fix tuple colnames\n",
    "num_compls.columns = num_compls.columns.map(''.join)\n",
    "# restrict to just these columns\n",
    "num_compls = num_compls[['race', 'gender', 'count']]\n",
    "num_compls = num_compls.rename(columns = {'count' : 'complaints'})\n",
    "# replace races with shortnames\n",
    "num_compls.race = num_compls.race.map(races_short)\n",
    "num_compls.reset_index(inplace=True)\n",
    "num_compls"
   ]
  },
  {
   "cell_type": "code",
   "execution_count": null,
   "id": "dd731bbb-9cce-4468-b064-5631d6b1e6ee",
   "metadata": {},
   "outputs": [],
   "source": [
    "# join the two data frames and remove duplicated columns\n",
    "cc = pd.concat([num_offs, num_compls], axis=1)\n",
    "cc = cc.loc[:, ~cc.columns.duplicated()]\n",
    "# compute the number of awards per officer in each category\n",
    "cc['frac'] = cc['complaints']/cc['officers']\n",
    "cc"
   ]
  },
  {
   "cell_type": "code",
   "execution_count": null,
   "id": "c0f52ed9-55d2-4ba9-9c15-b2b53cca263e",
   "metadata": {},
   "outputs": [],
   "source": [
    "# generate the plot\n",
    "sns.set_style('whitegrid')\n",
    "ax = sns.barplot(x = 'race', y = 'frac', hue = 'gender', data = cc)\n",
    "plt.xticks(rotation=45, ha=\"right\", rotation_mode=\"anchor\")\n",
    "plt.ylabel('Complaints per Officer')\n",
    "plt.xlabel('CPD Race Category')\n",
    "ax.get_legend().set_title('CPD Gender Category')\n",
    "plt.tight_layout()\n",
    "plt.savefig('../doc/figs/complaints.pdf')"
   ]
  }
 ],
 "metadata": {
  "kernelspec": {
   "display_name": "Python 3 (ipykernel)",
   "language": "python",
   "name": "python3"
  },
  "language_info": {
   "codemirror_mode": {
    "name": "ipython",
    "version": 3
   },
   "file_extension": ".py",
   "mimetype": "text/x-python",
   "name": "python",
   "nbconvert_exporter": "python",
   "pygments_lexer": "ipython3",
   "version": "3.6.9"
  }
 },
 "nbformat": 4,
 "nbformat_minor": 5
}
