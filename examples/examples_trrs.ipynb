{
 "cells": [
  {
   "cell_type": "code",
   "execution_count": null,
   "id": "4d14f31b",
   "metadata": {},
   "outputs": [],
   "source": [
    "import numpy as np\n",
    "import pandas as pd\n",
    "from tqdm import tqdm_notebook\n",
    "import matplotlib.pyplot as plt\n",
    "from matplotlib.gridspec import GridSpec"
   ]
  },
  {
   "cell_type": "code",
   "execution_count": null,
   "id": "d38fef81",
   "metadata": {},
   "outputs": [],
   "source": [
    "trrs  = pd.read_csv('../final/tactical_response_reports.csv')\n",
    "trrs_unique = trrs.drop_duplicates(subset='event_no')\n",
    "trrs.columns"
   ]
  },
  {
   "cell_type": "code",
   "execution_count": null,
   "id": "1fee4ba6",
   "metadata": {},
   "outputs": [],
   "source": [
    "events_per_year = np.bincount(pd.to_datetime(trrs_unique['date'].values).year)[-13:]\n",
    "events_per_month = np.bincount(pd.to_datetime(trrs_unique['date'].values).month)[1:]\n",
    "events_per_day = np.bincount(pd.to_datetime(trrs_unique['date'].values).weekday)\n",
    "hours = pd.to_datetime(trrs_unique['time'].values).hour\n",
    "hours = np.nan_to_num(hours, nan=24)\n",
    "events_per_hour = np.bincount(hours.astype(int))\n",
    "\n",
    "plt.figure(figsize = (20,5))\n",
    "\n",
    "ax=plt.subplot(141)\n",
    "\n",
    "plt.scatter(np.arange(len(events_per_hour)), events_per_hour)\n",
    "plt.vlines(x = np.arange(len(events_per_hour)), ymin = np.zeros(len(events_per_hour)), ymax = events_per_hour)\n",
    "# dayticks = ['Mon', 'Tue', 'Wed', 'Thu', 'Fri', 'Sat', 'Sun']\n",
    "xrange = np.arange(len(events_per_hour))[::3]\n",
    "xrangetikcs = [str(x) for x in xrange]\n",
    "xrangetikcs[-1] = 'NaT'\n",
    "plt.xticks(xrange, xrangetikcs, fontsize = 18)\n",
    "plt.yticks(fontsize = 18)\n",
    "plt.ylabel('# Events', fontsize = 18)\n",
    "plt.setp(ax.xaxis.get_majorticklabels(), rotation=45, ha=\"right\", rotation_mode=\"anchor\") \n",
    "plt.xlabel('Hour', fontsize = 18)\n",
    "\n",
    "ax=plt.subplot(142)\n",
    "\n",
    "plt.scatter(np.arange(len(events_per_day)), events_per_day)\n",
    "plt.vlines(x = np.arange(len(events_per_day)), ymin = np.zeros(len(events_per_day)), ymax = events_per_day)\n",
    "dayticks = ['Mon', 'Tue', 'Wed', 'Thu', 'Fri', 'Sat', 'Sun']\n",
    "plt.xticks(np.arange(len(events_per_day)), dayticks, fontsize = 18)\n",
    "plt.yticks(fontsize = 18)\n",
    "plt.ylabel('# Events', fontsize = 18)\n",
    "plt.setp(ax.xaxis.get_majorticklabels(), rotation=45, ha=\"right\", rotation_mode=\"anchor\") \n",
    "plt.xlabel('Weekdays', fontsize = 18)\n",
    "\n",
    "ax=plt.subplot(143)\n",
    "\n",
    "plt.scatter(np.arange(len(events_per_month)), events_per_month)\n",
    "plt.vlines(x = np.arange(len(events_per_month)), ymin = np.zeros(len(events_per_month)), ymax = events_per_month)\n",
    "monthticks = ['Jan', 'Feb', 'Mar', 'Apr', 'May', 'Jun', 'Jul', 'Aug', 'Sep', 'Oct', 'Nov', 'Dec']\n",
    "plt.xticks(np.arange(len(events_per_month)), monthticks, fontsize = 18)\n",
    "plt.yticks(fontsize = 18)\n",
    "plt.setp(ax.xaxis.get_majorticklabels(), rotation=45, ha=\"right\", rotation_mode=\"anchor\") \n",
    "plt.xlabel('Months', fontsize = 18)\n",
    "\n",
    "ax = plt.subplot(144)\n",
    "plt.scatter(np.arange(2004, 2017, dtype = int), events_per_year)\n",
    "plt.vlines(x = np.arange(2004, 2017, dtype = int), ymin = np.zeros(len(events_per_year)), ymax = events_per_year)\n",
    "plt.xlabel('Years', fontsize = 18)\n",
    "plt.xticks(fontsize=18)\n",
    "plt.yticks(fontsize = 18)\n",
    "plt.setp(ax.xaxis.get_majorticklabels(), rotation=45, ha=\"right\", rotation_mode=\"anchor\") \n",
    "plt.tight_layout()\n",
    "plt.savefig('../doc/figs/shooting_times.pdf', dpi=1000, bbox_inches = 'tight')\n",
    "plt.savefig('../doc/figs/shooting_times.png', dpi=100, bbox_inches = 'tight')\n",
    "plt.show()\n",
    "\n",
    "\n",
    "# type of trr\n",
    "# race of victim\n",
    "# race gender of officer of victim race/race ; gender/gender; could do by unit or injury;"
   ]
  }
 ],
 "metadata": {
  "kernelspec": {
   "display_name": "Python 3",
   "language": "python",
   "name": "python3"
  },
  "language_info": {
   "codemirror_mode": {
    "name": "ipython",
    "version": 3
   },
   "file_extension": ".py",
   "mimetype": "text/x-python",
   "name": "python",
   "nbconvert_exporter": "python",
   "pygments_lexer": "ipython3",
   "version": "3.8.8"
  }
 },
 "nbformat": 4,
 "nbformat_minor": 5
}
