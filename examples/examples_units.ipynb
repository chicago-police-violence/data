{
 "cells": [
  {
   "cell_type": "code",
   "execution_count": 1,
   "id": "5c4189f4",
   "metadata": {},
   "outputs": [],
   "source": [
    "import numpy as np\n",
    "import pandas as pd\n",
    "from tqdm import tqdm_notebook\n",
    "import matplotlib.pyplot as plt\n",
    "from matplotlib.gridspec import GridSpec"
   ]
  },
  {
   "cell_type": "code",
   "execution_count": 2,
   "id": "35db49aa",
   "metadata": {},
   "outputs": [
    {
     "data": {
      "text/plain": [
       "Index(['uid', 'unit_no', 'start_date', 'end_date'], dtype='object')"
      ]
     },
     "execution_count": 2,
     "metadata": {},
     "output_type": "execute_result"
    }
   ],
   "source": [
    "units  = pd.read_csv('../final/unit_assignments.csv')\n",
    "units.columns"
   ]
  },
  {
   "cell_type": "code",
   "execution_count": 9,
   "id": "b5e66041",
   "metadata": {},
   "outputs": [
    {
     "data": {
      "image/png": "[encoded data removed]",
      "text/plain": [
       "<Figure size 432x288 with 1 Axes>"
      ]
     },
     "metadata": {
      "needs_background": "light"
     },
     "output_type": "display_data"
    }
   ],
   "source": [
    "end_date = max(pd.to_datetime(units['end_date'].values)) # largest end date\n",
    "# print('Number of distinct uids in database:', len(set(history['uid'])))\n",
    "\n",
    "# history_profiles = {}\n",
    "# for uid in tqdm_notebook(set(units['uid'])):\n",
    "#     history_profiles[uid] = {}\n",
    "#     vals = units[units['uid'] == uid].values\n",
    "#     for v in vals:\n",
    "#         if np.isnan(v[1]):\n",
    "#             pass\n",
    "#         else:\n",
    "#             history_profiles[uid][int(v[1])] = v[2], v[3]\n",
    "# np.save('history_profiles', history_profiles)\n",
    "\n",
    "history_profiles = np.load('../../derived_data/history_profiles.npy', allow_pickle=1).item()\n",
    "\n",
    "# # distribution of number of units/officer\n",
    "\n",
    "a = [len(history_profiles[individual_officer]) for individual_officer in history_profiles]\n",
    "plt.hist(a, bins = 20)\n",
    "plt.xlabel('# Units', fontsize = 14)\n",
    "plt.ylabel('# Officers', fontsize = 14)\n",
    "plt.xticks(np.arange(18)[::2], np.arange(1,19)[::2], fontsize = 14)\n",
    "plt.yticks(fontsize = 14)\n",
    "plt.tight_layout()\n",
    "plt.savefig('../doc/figs/units_officers.pdf', bbox_inches = 'tight', dpi = 1000)\n",
    "plt.savefig('../doc/figs/units_officers.png', bbox_inches = 'tight', dpi = 100)\n",
    "plt.show()"
   ]
  },
  {
   "cell_type": "code",
   "execution_count": null,
   "id": "e09aa93b",
   "metadata": {},
   "outputs": [],
   "source": [
    "## TO DOs (lower priority) - histogram of membership in unit (all district / all areas / everything else)\n",
    "\n",
    "# potentially interesting questions:\n",
    "\n",
    "# how much time does an officer spend in a unit?\n",
    "# officer distribution across units as time varies? "
   ]
  }
 ],
 "metadata": {
  "kernelspec": {
   "display_name": "Python 3",
   "language": "python",
   "name": "python3"
  },
  "language_info": {
   "codemirror_mode": {
    "name": "ipython",
    "version": 3
   },
   "file_extension": ".py",
   "mimetype": "text/x-python",
   "name": "python",
   "nbconvert_exporter": "python",
   "pygments_lexer": "ipython3",
   "version": "3.8.8"
  }
 },
 "nbformat": 4,
 "nbformat_minor": 5
}
