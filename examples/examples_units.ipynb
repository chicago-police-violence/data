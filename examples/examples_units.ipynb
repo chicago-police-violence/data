{
 "cells": [
  {
   "cell_type": "code",
   "execution_count": null,
   "id": "5c4189f4",
   "metadata": {},
   "outputs": [],
   "source": [
    "import numpy as np\n",
    "import pandas as pd\n",
    "from tqdm import tqdm_notebook\n",
    "import matplotlib.pyplot as plt\n",
    "from matplotlib.gridspec import GridSpec"
   ]
  },
  {
   "cell_type": "code",
   "execution_count": null,
   "id": "35db49aa",
   "metadata": {},
   "outputs": [],
   "source": [
    "units  = pd.read_csv('../final/unit_assignments.csv')\n",
    "units.columns"
   ]
  },
  {
   "cell_type": "code",
   "execution_count": null,
   "id": "b5e66041",
   "metadata": {},
   "outputs": [],
   "source": [
    "end_date = max(pd.to_datetime(units['end_date'].values)) # largest end date\n",
    "\n",
    "history_profiles = {}\n",
    "for uid in tqdm_notebook(set(units['uid'])):\n",
    "    history_profiles[uid] = {}\n",
    "    vals = units[units['uid'] == uid].values\n",
    "    for v in vals:\n",
    "        if np.isnan(v[1]):\n",
    "            pass\n",
    "        else:\n",
    "            history_profiles[uid][int(v[1])] = v[2], v[3]\n",
    "# np.save('history_profiles', history_profiles)\n",
    "# history_profiles = np.load('../../derived_data/history_profiles.npy', allow_pickle=1).item()\n",
    "\n",
    "# distribution of number of units/officer\n",
    "\n",
    "a = [len(history_profiles[individual_officer]) for individual_officer in history_profiles]\n",
    "plt.figure(figsize = (21,4))\n",
    "plt.subplot(121)\n",
    "plt.hist(a, bins = 20)\n",
    "plt.xlabel('# Units', fontsize = 30)\n",
    "plt.ylabel('# Officers', fontsize = 25)\n",
    "# plt.xticks(np.arange(18)[::2], np.arange(1,19)[::2], fontsize = 25)\n",
    "plt.yticks(fontsize = 25)\n",
    "xticks_ = np.concatenate([np.arange(10), np.array([11, 13, 15, 17, 19])])\n",
    "plt.xticks(xticks_, xticks_+1, fontsize = 25)\n",
    "\n",
    "\n",
    "appointment_length = []\n",
    "for officer in history_profiles:\n",
    "    for unit in history_profiles[officer]:\n",
    "        start_end = history_profiles[officer][unit]\n",
    "        start, end = pd.to_datetime(start_end[0]), pd.to_datetime(start_end[1])\n",
    "        if pd.isna(start):\n",
    "            pass\n",
    "        else:\n",
    "            if pd.isna(end) == 0:\n",
    "                duration= end-start\n",
    "                appointment_length.append(duration.days)\n",
    "            if pd.isna(end):\n",
    "                appointment_length.append(-1)\n",
    "appointment_length = np.array(appointment_length)\n",
    "app_len = appointment_length[appointment_length>0]\n",
    "\n",
    "plt.subplot(122)\n",
    "plt.hist(app_len/365, bins = 50)\n",
    "plt.xlabel('# Years spent in unit', fontsize = 30)\n",
    "plt.ylabel('# Assigned units', fontsize = 25)\n",
    "plt.xticks(fontsize = 25)\n",
    "plt.yticks(fontsize = 25)\n",
    "plt.tight_layout()\n",
    "plt.savefig('../doc/figs/units_officers.pdf', bbox_inches = 'tight', dpi = 1000)\n",
    "# plt.savefig('../doc/figs/units_officers.png', bbox_inches = 'tight', dpi = 100)\n",
    "plt.show()"
   ]
  }
 ],
 "metadata": {
  "kernelspec": {
   "display_name": "Python 3",
   "language": "python",
   "name": "python3"
  },
  "language_info": {
   "codemirror_mode": {
    "name": "ipython",
    "version": 3
   },
   "file_extension": ".py",
   "mimetype": "text/x-python",
   "name": "python",
   "nbconvert_exporter": "python",
   "pygments_lexer": "ipython3",
   "version": "3.8.8"
  }
 },
 "nbformat": 4,
 "nbformat_minor": 5
}
