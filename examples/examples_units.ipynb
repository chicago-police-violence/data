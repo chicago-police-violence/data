{
 "cells": [
  {
   "cell_type": "code",
   "execution_count": null,
   "id": "5c4189f4",
   "metadata": {},
   "outputs": [],
   "source": [
    "import numpy as np\n",
    "import pandas as pd\n",
    "from tqdm import tqdm_notebook\n",
    "import matplotlib.pyplot as plt\n",
    "from matplotlib.gridspec import GridSpec"
   ]
  },
  {
   "cell_type": "code",
   "execution_count": null,
   "id": "35db49aa",
   "metadata": {},
   "outputs": [],
   "source": [
    "units  = pd.read_csv('../final/unit_assignments.csv')\n",
    "units.columns"
   ]
  },
  {
   "cell_type": "code",
   "execution_count": null,
   "id": "b5e66041",
   "metadata": {},
   "outputs": [],
   "source": [
    "# history = pd.read_csv('../final/history.csv')\n",
    "# print(history.head())\n",
    "# end_date = max(pd.to_datetime(history['end_date'].values)) # largest end date\n",
    "# print('Number of distinct uids in database:', len(set(history['uid'])))\n",
    "\n",
    "# history_profiles = {}\n",
    "# for uid in tqdm_notebook(set(history['uid'])):\n",
    "#     history_profiles[uid] = {}\n",
    "#     vals = history[history['uid'] == uid].values\n",
    "#     for v in vals:\n",
    "#         if np.isnan(v[1]):\n",
    "#             pass\n",
    "#         else:\n",
    "#             history_profiles[uid][int(v[1])] = v[2], v[3]\n",
    "# np.save('history_profiles', history_profiles)\n",
    "\n",
    "history_profiles = np.load('../../derived_data/history_profiles.npy', allow_pickle=1).item()\n",
    "\n",
    "# # distribution of number of units/officer\n",
    "\n",
    "a = [len(history_profiles[individual_officer]) for individual_officer in history_profiles]\n",
    "plt.hist(a, bins = 20)\n",
    "plt.xlabel('# units', fontsize = 14)\n",
    "plt.ylabel('# officers', fontsize = 14)\n",
    "plt.xticks(np.arange(18)[::2], np.arange(1,19)[::2], fontsize = 14)\n",
    "plt.yticks(fontsize = 14)\n",
    "plt.tight_layout()\n",
    "plt.show()"
   ]
  },
  {
   "cell_type": "code",
   "execution_count": null,
   "id": "e09aa93b",
   "metadata": {},
   "outputs": [],
   "source": [
    "# units_numbers = set(flat_list([list(history_profiles[k].keys()) for k in history_profiles]))\n",
    "# time_in_unit = {unit : 0 for unit in units_numbers}\n",
    "# plt.figure(figsize = (20,3))\n",
    "# for uid in history_profiles:\n",
    "#     for unit in history_profiles[uid]:\n",
    "#         time_in_unit[unit] += 1\n",
    "# max_unit, max_times = np.argmax([time_in_unit[u] for u in time_in_unit]), max([time_in_unit[u] for u in time_in_unit])\n",
    "# plt.scatter(np.arange(max_unit), [time_in_unit[v] for v in np.sort(list(units_numbers))[:max_unit]])\n",
    "# # plt.xticks(np.arange(len(units_numbers)), np.sort(list(units_numbers)))\n",
    "# plt.show()\n",
    "\n",
    "### TO DOs (lower priority) - histogram of membership in unit (all district / all areas / everything else)\n",
    "\n",
    "# potentially interesting questions:\n",
    "\n",
    "# how much time does an officer spend in a unit?\n",
    "# officer distribution across units as time varies? "
   ]
  }
 ],
 "metadata": {
  "kernelspec": {
   "display_name": "Python 3",
   "language": "python",
   "name": "python3"
  },
  "language_info": {
   "codemirror_mode": {
    "name": "ipython",
    "version": 3
   },
   "file_extension": ".py",
   "mimetype": "text/x-python",
   "name": "python",
   "nbconvert_exporter": "python",
   "pygments_lexer": "ipython3",
   "version": "3.8.8"
  }
 },
 "nbformat": 4,
 "nbformat_minor": 5
}
